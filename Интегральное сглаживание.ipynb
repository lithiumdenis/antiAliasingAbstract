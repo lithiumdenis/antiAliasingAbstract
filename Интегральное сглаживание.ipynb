{
 "cells": [
  {
   "cell_type": "markdown",
   "metadata": {},
   "source": [
    "## 4.4 Методы интегрального сглаживания\n",
    "### 4.4.1. Постановка задачи"
   ]
  },
  {
   "cell_type": "markdown",
   "metadata": {},
   "source": [
    "Часто в ходе физических экспериментов экспериментальные данные представляются в виде \n",
    "* Таблиц \n",
    "* Сеточных функций $y_i=f(x_i) \\pm \\varepsilon_i$, где $\\varepsilon_i$ - погрешность измерения.\n",
    "\n",
    "Например, может быть получена следующая зависимость:"
   ]
  },
  {
   "cell_type": "code",
   "execution_count": 61,
   "metadata": {},
   "outputs": [
    {
     "name": "stdout",
     "output_type": "stream",
     "text": [
      "x_i,             y_i\n",
      "1       0.8414709848078965\n",
      "2       0.9092974268256817\n",
      "3       0.1411200080598672\n",
      "4       -0.7568024953079282\n",
      "5       -0.9589242746631385\n"
     ]
    }
   ],
   "source": [
    "import math\n",
    "print('x_i,             y_i')\n",
    "for i in range(1,6):\n",
    "    print(i, '     ', math.sin(i))"
   ]
  },
  {
   "cell_type": "markdown",
   "metadata": {},
   "source": [
    "Если просто соединить данные экспериментально полученные точки с помощью прямой, то такое приближение для всего процесса будет довольно неточным:"
   ]
  },
  {
   "cell_type": "code",
   "execution_count": 59,
   "metadata": {},
   "outputs": [
    {
     "data": {
      "image/png": "[encoded data removed]",
      "text/plain": [
       "<matplotlib.figure.Figure at 0x1ec8cf907f0>"
      ]
     },
     "metadata": {},
     "output_type": "display_data"
    }
   ],
   "source": [
    "#Импортируем один из пакетов Matplotlib\n",
    "import pylab\n",
    "#Импортируем пакет со вспомогательными функциями\n",
    "from matplotlib import mlab\n",
    "# Шаг между точками\n",
    "dx = 1\n",
    "\n",
    "#Создадим список координат по оси \n",
    "#X на отрезке [-xmin; xmax], включая концы\n",
    "xlist = mlab.frange (1, 5, dx)\n",
    "\n",
    "# Вычислим значение функции в заданных точках\n",
    "ylist = [math.sin(x) for x in xlist]\n",
    "\n",
    "#Нарисуем одномерный график\n",
    "pylab.plot(xlist, ylist)\n",
    "pylab.xlabel('x')\n",
    "pylab.ylabel('y(x)')\n",
    "\n",
    "#Покажем окно с нарисованным графиком\n",
    "pylab.show()"
   ]
  },
  {
   "cell_type": "markdown",
   "metadata": {},
   "source": [
    "Положим, что полученная таблица является реализацией эмпирической гладкой зависимости\n",
    "\n",
    "$\\widetilde{f}_m(x, \\overline{a})$ с неизвестным параметром $\\overline{a}$, который в общем случае является вектором размерности $m+1$:"
   ]
  },
  {
   "cell_type": "code",
   "execution_count": 61,
   "metadata": {},
   "outputs": [
    {
     "data": {
      "image/png": "[encoded data removed]",
      "text/plain": [
       "<matplotlib.figure.Figure at 0x1ec8d001a90>"
      ]
     },
     "metadata": {},
     "output_type": "display_data"
    }
   ],
   "source": [
    "import numpy as np\n",
    "import matplotlib.pyplot as plt\n",
    "\n",
    "t1 = np.arange(1., 5., 0.1)\n",
    "t2 = np.array([1, 2, 3, 4, 5])\n",
    "t2_2 = np.array([0.65, 1, 0.25, -0.65, -0.8])\n",
    "\n",
    "plt.plot(t1, np.sin(t1), 'r--', t2, t2_2, 'g^')\n",
    "plt.ylabel('y')\n",
    "plt.xlabel('x_0                                         x_i                                      x_n')\n",
    "plt.show()"
   ]
  },
  {
   "cell_type": "markdown",
   "metadata": {},
   "source": [
    "где красный график отражает сглаженную зависимость $\\widetilde{f}_m(x, \\overline{a})$, а зелёный - некоторые табличные данные.\n",
    "\n",
    "Для определения данной сглаженной зависимости можно использовать разные формы её записи и использовать разные условия согласования $\\widetilde{f}_m(x, \\overline{a})$ с исходной функцией $y_i=f(x_i) \\pm \\varepsilon_i$.\n",
    "\n",
    "Удобно представить зависимость в виде обобщенного многочлена:\n",
    "\n",
    "$$\\widetilde{f}_m(x, \\overline{a}) = \\sum\\limits_{j=0}^{m}a_j\\phi_j(x)=a_0\\phi_0(x)+a_1\\phi_1(x)+...+a_m\\phi_m(x) \\tag{4.43}         $$\n",
    "где $\\overline{a}$ - вектор неизвестных коэффициентов, $\\{\\phi_j\\}$ - система базисных функций. \n",
    "\n",
    "Базисными функциями могут выступать:\n",
    "* Степенные $\\{\\phi_j\\} = \\{x^j\\}$\n",
    "* Многочлены Чебышева\n",
    "* Тригонометрические $\\{\\phi_j\\} = \\{\\cos jx\\}$\n",
    "\n",
    "Методами сглаживания могут выступать (более подробно о них поговорим далее):\n",
    "* Метод наименьших квадратов\n",
    "* Метод интегрального приближения (также известный как \"Метод наилучшего интегрального приближения\")"
   ]
  },
  {
   "cell_type": "markdown",
   "metadata": {},
   "source": [
    "#### Постановка задачи о нахождении сглаживающих многочленов методом наименьших квадратов"
   ]
  },
  {
   "cell_type": "markdown",
   "metadata": {},
   "source": [
    "Пусть на множестве $\\Omega = [a,b]$ задана сетка $$\\Omega_n = \\{x_i, i=\\overline{0,n}\\},$$ определяемая $n+1$ точкой, т.е. $x_0, x_1, x_2,...,x_n$, а на сетке задана сеточная функция $$y_i=f(x_i),$$\n",
    "где $i=\\overline{0,n}$.\n",
    "\n",
    "Предполагается, что функция получена в ходе некоторого эксперимента с погрешностью $\\varepsilon_i$.\n",
    "В качестве сглаживающей функции будет использоваться многочлен 4.43 со степенью, удовлетворяющей условию $0 \\leq m \\leq n$.\n",
    "\n",
    "Требуется найти такие коэффициенты $a_0, a_1, a_2,...,a_m$, при которых выполняется интегральное условие согласования:\n",
    "\n",
    "$$ \\delta_m(\\overline{a}) = \\sqrt{\\frac{1}{1+n}\\sum\\limits_{i=0}^{n} [\\widetilde{f}_m(x, \\overline{a}) - f_i]^2} \\rightarrow \\min\\limits_{\\overline{a}}, \\tag{4.44} $$\n",
    "т.е. такой вектор $\\overline{a}$, который обеспечивает минимум среднеквадратичной погрешности $ \\delta_m(\\overline{a})$.\n",
    "\n",
    "\n",
    "Ключевые особенности сглаживания данного типа в отличие от решения задачи интерполяции:\n",
    "* Интерполяция - точечный метод. Как известно, Задача интерполяции – найти функцию $F(x)$, принимающую в точках $x_i$ те же значения $y_i$. Т.е. условие интерполяции имеет вид $F(x_i) = y_i$. Рассматриваемые же здесь методы не требуют точного удовлетворения функциональных условий, а требуют выполнения соответствия $\\widetilde{f}_m(x, \\overline{a})$ и $y_i=y(x_i)$ в среднем.\n",
    "* Подразумевается, что исходная функция получена в ходе некоторого эксперимента с ненулевой погрешностью.\n",
    "* Количество точек $n$, в которых задана исходная функция, значительно выше степени многочлена $m$. Таким образом, между ними нет строгого сооветствия, как в интерполяции."
   ]
  },
  {
   "cell_type": "markdown",
   "metadata": {},
   "source": [
    "#### Постановка задачи о нахождении сглаживающих многочленов методом интегрального приближения"
   ]
  },
  {
   "cell_type": "markdown",
   "metadata": {},
   "source": [
    "Пусть на множестве $\\Omega = [a,b]$ задана сетка $$\\Omega_{m+1} = \\{x_i, i=\\overline{0,m+1}\\},$$\n",
    "причём $x_0=a<x_1<x_2<...<x_{m+1} = b.$ \n",
    "\n",
    "Данная сетка, определяемая $m+2$ несовпадающими узлами, порождает систему из $m+1$ частичных отрезков $[x_i, x_{i+1}], i = i=\\overline{0,m}$\n",
    "\n",
    "Способы задания сеточной функции на данной сетке:\n",
    "1. На каждом частичном отрезке сетки задаётся величина интеграла $I_i^{i+1}$\n",
    "2. На частичных отрезках с фиксированным левым узлом $[x_0, x_{1}], [x_0, x_{2}], ..., [x_0, x_{m+1}]$ задаются интегралы $I_0^{i+1}$\n",
    "3. Задание сеточной функции её значениями $y_i=f(x_i), i=\\overline{0,m+1}$, которые известны с погрешностями $\\varepsilon_i$. В данном случае вычисляются интегралы $I_i^{i+1},i=\\overline{0,m} $ и $ I_0^i, i = \\overline{1,m+1}$.\n",
    "\n",
    "В качестве сглаживающей функции, как и в методе наименьших квадратов, используется многочлен 4.43 степени $m$ со степенными базисными функциями. Требуется найти такие коэффициенты $a_0, a_1, a_2,...,a_m$, при которых выполняется интегральное условие согласования:\n",
    "* Для первого способа задания оно имеет вид: $\\int\\limits_{x_i}^{x_{i+1}} \\widetilde{f}_m(x, \\overline{a}) dx = I_i^{i+1},$ где  $ i=\\overline{0,m} \\tag{4.45} $\n",
    "* Для второго способа задания оно имеет вид: $\\int\\limits_{x_0}^{x_{i}} \\widetilde{f}_m(x, \\overline{a}) dx = I_0^{i},$ где  $ i=\\overline{1,m+1} \\tag{4.46} $"
   ]
  },
  {
   "cell_type": "markdown",
   "metadata": {},
   "source": [
    "### 4.4.2 Метод наименьших квадратов"
   ]
  },
  {
   "cell_type": "markdown",
   "metadata": {},
   "source": [
    "В соответствии с постановкой задачи, найдем коэффициенты $a_0, a_1, a_2,...,a_m$ многочлена (4.43) $$\\widetilde{f}_m(x, \\overline{a}) = \\sum\\limits_{j=0}^{m}a_j\\phi_j(x)=a_0\\phi_0(x)+a_1\\phi_1(x)+...+a_m\\phi_m(x), $$ для которых выполняется условие (4.44): $$ \\delta_m(\\overline{a}) = \\sqrt{\\frac{1}{1+n}\\sum\\limits_{i=0}^{n} [\\widetilde{f}_m(x, \\overline{a}) - f_i]^2} \\rightarrow \\min\\limits_{\\overline{a}} \\tag{4.47}$$\n",
    "\n",
    "Очевидно, что минимум в последнем достигается с учётом (4.43), если \n",
    "$$\\Delta = \\sum\\limits_{i=0}^{n} [a_0\\phi_0(x_i)+a_1\\phi_1(x_i)+...+a_m\\phi_m(x_i) - f_i]^2 \\rightarrow \\min\\limits_{\\overline{a}} \\tag{4.48}$$\n",
    "\n",
    "Т.к. на коэффициенты не наложено никаких ограничений, то применим необходимые условия безусловного экстремума $\\frac{\\partial \\Delta}{\\partial a_j} = 0, $ где $ j = 1,...,m. $\n",
    "\n",
    "В итоге получаем систему уравнений:\n",
    "\\begin{equation}\n",
    " \\begin{cases}\n",
    "   \\frac{\\partial \\Delta}{\\partial a_0} = 2 \\cdot \\sum\\limits_{i=0}^{n} [a_0\\phi_0(x_i)+a_1\\phi_1(x_i)+...+a_m\\phi_m(x_i) - f_i] \\cdot \\phi_0(x_i) = 0 , \n",
    "   \\\\\n",
    "   \\frac{\\partial \\Delta}{\\partial a_1} = 2 \\cdot \\sum\\limits_{i=0}^{n} [a_0\\phi_0(x_i)+a_1\\phi_1(x_i)+...+a_m\\phi_m(x_i) - f_i] \\cdot \\phi_1(x_i) = 0,\n",
    "   \\\\\n",
    "   ...\n",
    "   \\\\\n",
    "   \\frac{\\partial \\Delta}{\\partial a_m} = 2 \\cdot \\sum\\limits_{i=0}^{n} [a_0\\phi_0(x_i)+a_1\\phi_1(x_i)+...+a_m\\phi_m(x_i) - f_i] \\cdot \\phi_m(x_i) = 0.\n",
    " \\end{cases} \\tag{4.49}\n",
    "\\end{equation}\n",
    "\n",
    "\n",
    "Для компактной записи полученного результата удобно использовать скалярное произведение. \n",
    "\n",
    "Скалярным произведением функций $\\phi_k(x)$ и $\\phi_l(x)$ называется сумма произведений значений функций, вычисленных во всех рассматриваемых точках $x_i$:\n",
    "\n",
    "$$ (\\phi_k, \\phi_l) = \\sum\\limits_{i=0}^{n} \\phi_k(x_i) \\phi_l(x_i). $$\n",
    "\n",
    "Тогда запишем систему в нормальной форме:\n",
    "\n",
    "\\begin{equation}\n",
    " \\begin{cases}\n",
    "   (\\phi_0, \\phi_0)a_0 + (\\phi_0, \\phi_1)a_1 + ... + (\\phi_0, \\phi_m)a_m = (f, \\phi_0), \n",
    "   \\\\\n",
    "   (\\phi_1, \\phi_0)a_0 + (\\phi_1, \\phi_1)a_1 + ... + (\\phi_1, \\phi_m)a_m = (f, \\phi_1), \n",
    "   \\\\\n",
    "   ...\n",
    "   \\\\\n",
    "   (\\phi_m, \\phi_0)a_0 + (\\phi_m, \\phi_1)a_1 + ... + (\\phi_m, \\phi_m)a_m = (f, \\phi_m).\n",
    " \\end{cases} \\tag{4.50}\n",
    "\\end{equation} \n",
    "где $ (f, \\phi_k) = \\sum\\limits_{i=0}^{n} f_i \\phi_k(x_i) $. Таким образом, имеется $m+1$ линейное уравнение с $m+1$ неизвестными $a_0, a_1, a_2,...,a_m$. \n",
    "\n",
    "Так как $(\\phi_k, \\phi_l) = (\\phi_l, \\phi_k)$, то матрица $A$, полученная из системы 4.50 является симметрической, т.е. её  элементы симметричны относительно главной диагонали. Если базисные функции $\\phi_0,...,\\phi_m$ линейно независимы, то определитель матрицы не равен нулю, решение системы существует и является единственным. "
   ]
  },
  {
   "cell_type": "markdown",
   "metadata": {},
   "source": [
    "#### Применение степенных базисных функций"
   ]
  },
  {
   "cell_type": "markdown",
   "metadata": {},
   "source": [
    "В качестве базисных функций используем степенные:\n",
    "$$\\phi_j(x) = x^j, j=\\overline{0,m}.$$\n",
    "Тогда многочлен 4.43 имеет вид:\n",
    "$$\\widetilde{f}_m(x, \\overline{a}) = \\sum\\limits_{j=0}^{m}a_jx^j=a_0+a_1x+...+a_mx^m \\tag{4.51}         $$\n",
    "Тогда \n",
    "$$ (f, \\phi_j) = \\sum\\limits_{i=0}^{n}f_ix_i^j$$\n",
    "$$ (\\phi_k, \\phi_l) = \\sum\\limits_{i=0}^{n}x_i^{k+l}$$\n",
    "$$ (\\phi_k, \\phi_k) = \\sum\\limits_{i=0}^{n}x_i^{2k}$$\n",
    "Система (4.50) преобразуется к виду:\n",
    "\n",
    "\\begin{equation}\n",
    " \\begin{cases}\n",
    "   (\\sum\\limits_{i=0}^{n}1)a_0 + (\\sum\\limits_{i=0}^{n}x_i)a_1 + ... + (\\sum\\limits_{i=0}^{n} x_i^m)a_m = \\sum\\limits_{i=0}^{n}f_i, \n",
    "   \\\\\n",
    "   (\\sum\\limits_{i=0}^{n}x_i)a_0 + (\\sum\\limits_{i=0}^{n}x_i^2)a_1 + ... + (\\sum\\limits_{i=0}^{n} x_i^{m+1})a_m = \\sum\\limits_{i=0}^{n}f_i x_i, \n",
    "   \\\\\n",
    "   ...\n",
    "   \\\\\n",
    "  (\\sum\\limits_{i=0}^{n}x_i^m)a_0 + (\\sum\\limits_{i=0}^{n}x_i^{m+1})a_1 + ... + (\\sum\\limits_{i=0}^{n} x_i^{2m})a_m = \\sum\\limits_{i=0}^{n}f_ix_i^m.\n",
    " \\end{cases} \\tag{4.52}\n",
    "\\end{equation} \n",
    "\n",
    "Обозначим \n",
    "\n",
    "$$ s_0 = n + 1,$$ \n",
    "$$t_0 = f_0 + f_1 + ... + f_n,$$\n",
    "$$ s_k = x_0^k + x_1^k + x_n^k, \\text{ где } k = 1,...,2m, \\tag{4.53_0}$$\n",
    "$$ t_k = x_0^kf_0 + x_1^kf_1 + ... + x_n^kf_n, \\text{ где } k = 1,...,m. $$ \n",
    "\n",
    "Тогда система 4.52 преобразуется к виду:\n",
    "\\begin{equation}\n",
    " \\begin{cases}\n",
    "   s_0 a_0 + s_1 a_1 + ... + s_m a_m = t_0, \n",
    "   \\\\\n",
    "   s_1 a_0 + s_2 a_1 + ... + s_{m+1} a_m = t_1, \n",
    "   \\\\\n",
    "   ...\n",
    "   \\\\\n",
    "   s_m a_0 + s_{m+1} a_1 + ... + s_{2m} a_m = t_m.\n",
    " \\end{cases} \\tag{4.53}\n",
    "\\end{equation} \n",
    "\n",
    "Решая СЛУ, находим $a_0, a_1, a_2,...,a_m$, подставляем в $\\widetilde{f}_m(x, \\overline{a})$ и получаем искомую формулу, которая сглаживает экспериментальные данные. Данная функция является более плавной, по сравнению с ломаной, проведенной через заданные экспериментальные точки. "
   ]
  },
  {
   "cell_type": "markdown",
   "metadata": {},
   "source": [
    "#### Методика решения задачи сглаживания\n",
    "\n",
    "1. Вычислить коэффициенты $s_k$, где $k=\\overline{0,2m}$ и $t_k$, где $k=\\overline{0,m}$ по заданной сеточной функции и записать систему 4.53.\n",
    "2. Решить полученную систему одним из методов решения СЛУ и найти коэффициенты $a_0, a_1, a_2,...,a_m$.\n",
    "3. Записать искомую сглаживающую функцию $\\widetilde{f}_m(x, \\overline{a}) = a_0 + a_1x + ... + a_mx^m.$\n",
    "\n",
    "Замечания:\n",
    "* Если для сеточной функции, заданной на $n+1$ точке, определять многочлен степени $m=n$ методом наименших квадратов, то $\\widetilde{f}_m(x, \\overline{a})$ совпадает с интерполяционным многочленом. При этом $\\Delta = 0$ и $\\delta_m(\\overline{a}) = 0$.\n",
    "* В каждом отдельном случае может быть оптимальная степень $m$. Если все $\\varepsilon_i$ одинаковы и равны $\\varepsilon$, то, определив $a_j$ и $\\delta_m(\\overline{a})$ можно выявить три случая:\n",
    "    - Если $\\delta_m(\\overline{a}) >> \\varepsilon$, то аппроксимация слишком грубая, т.е. степень $m$ мала и стоит её увеличить. \n",
    "    - Если $\\delta_m(\\overline{a}) << \\varepsilon$, то аппроксимация недостоверна и степень $m$ нужно уменьшить.\n",
    "    - Если $\\delta_m(\\overline{a}) \\approx \\varepsilon$, то степень оптимальна.\n",
    "* Система при $m >> 1$ становится плохо обусловленной и определить полином $\\delta_m(\\overline{a})$ практически невозможно, т.к. строки матрицы $A$ становятся почти линейно зависимыми, т.е. $A\\approx 0$. В этом случае надо использовать полиномы Чебышева или использовать метод интегрального приближения.\n",
    "* Метод наименьших квадратов иногда не учитывает локальных свойств аппроксимируемых функций, т.е. могут быть не отмечены отдельнные единичные \"всплески\".\n",
    "* При изменении степени $m$ все коэффициенты необходимо рассчитывать заново. "
   ]
  },
  {
   "cell_type": "markdown",
   "metadata": {},
   "source": [
    "#### Пример 4.9 Решим задачу аппроксимации сеточной функции, заданной таблицей"
   ]
  },
  {
   "cell_type": "code",
   "execution_count": 82,
   "metadata": {},
   "outputs": [
    {
     "name": "stdout",
     "output_type": "stream",
     "text": [
      "i    x_i   f_i \n",
      "0     2     7\n",
      "1     3     5\n",
      "2     4     8\n",
      "3     5     7\n"
     ]
    }
   ],
   "source": [
    "i = [0, 1, 2, 3]\n",
    "xi = [2, 3, 4, 5]\n",
    "fi = [7, 5, 8, 7]\n",
    "print('i ', '  x_i ', ' f_i ')\n",
    "for idx in i:\n",
    "    print(idx, '   ', xi[idx], '   ', fi[idx])"
   ]
  },
  {
   "cell_type": "markdown",
   "metadata": {},
   "source": [
    "#### Случай 1: \n",
    "$m = 1$\n",
    "\n",
    "Нужно решить систему\n",
    "\n",
    "\\begin{equation}\n",
    " \\begin{cases}\n",
    "   s_0 a_0 + s_1 a_1 = t_0, \n",
    "   \\\\\n",
    "   s_1 a_0 + s_2 a_1 = t_1\n",
    " \\end{cases}\n",
    "\\end{equation} \n",
    "\n",
    "В соответствии с 4.53_0 получаем:"
   ]
  },
  {
   "cell_type": "code",
   "execution_count": 31,
   "metadata": {},
   "outputs": [
    {
     "name": "stdout",
     "output_type": "stream",
     "text": [
      "t_0 =  27\n",
      "t_1 =  96\n",
      "s_0 =  4\n",
      "s_1 =  14\n",
      "s_2 =  54\n"
     ]
    }
   ],
   "source": [
    "t0 = sum(fi)\n",
    "t1 = sum(map(lambda x, y: y * x, xi, fi)) #x_i * f_i\n",
    "s0 = i[len(i) - 1] + 1 \n",
    "s1 = sum(xi)\n",
    "\n",
    "     # сумма квадратов xi\n",
    "s2 = sum(map(lambda y: y ** 2, xi))\n",
    "\n",
    "\n",
    "print('t_0 = ', t0)\n",
    "print('t_1 = ', t1)\n",
    "print('s_0 = ', s0)\n",
    "print('s_1 = ', s1)\n",
    "print('s_2 = ', s2)"
   ]
  },
  {
   "cell_type": "markdown",
   "metadata": {},
   "source": [
    "Таким образом, система 4.53 имеет вид:\n",
    "\\begin{equation}\n",
    " \\begin{cases}\n",
    "   4 a_0 + 14 a_1 = 27, \n",
    "   \\\\\n",
    "   14 a_0 + 54 a_1 = 96\n",
    " \\end{cases}\n",
    "\\end{equation} \n",
    "Найдём $a_0 $ и $ a_1$ с помощью метода Гаусса:"
   ]
  },
  {
   "cell_type": "code",
   "execution_count": 78,
   "metadata": {
    "collapsed": true
   },
   "outputs": [],
   "source": [
    "def myGauss(m):\n",
    "    # eliminate columns\n",
    "    for col in range(len(m[0])):\n",
    "        for row in range(col+1, len(m)):\n",
    "            r = [(rowValue * (-(m[row][col] / m[col][col]))) for rowValue in m[col]]\n",
    "            m[row] = [sum(pair) for pair in zip(m[row], r)]\n",
    "    # now backsolve by substitution\n",
    "    ans = []\n",
    "    m.reverse() # makes it easier to backsolve\n",
    "    for sol in range(len(m)):\n",
    "            if sol == 0:\n",
    "                ans.append(m[sol][-1] / m[sol][-2])\n",
    "            else:\n",
    "                inner = 0\n",
    "                # substitute in all known coefficients\n",
    "                for x in range(sol):\n",
    "                    inner += (ans[x]*m[sol][-2-x])\n",
    "                # the equation is now reduced to ax + b = c form\n",
    "                # solve with (c - b) / a\n",
    "                ans.append((m[sol][-1]-inner)/m[sol][-sol-2])\n",
    "    ans.reverse()\n",
    "    return ans"
   ]
  },
  {
   "cell_type": "code",
   "execution_count": 35,
   "metadata": {},
   "outputs": [
    {
     "data": {
      "text/plain": [
       "[5.7, 0.3]"
      ]
     },
     "execution_count": 35,
     "metadata": {},
     "output_type": "execute_result"
    }
   ],
   "source": [
    "myGauss([[4, 14, 27], [14, 54, 96]])"
   ]
  },
  {
   "cell_type": "markdown",
   "metadata": {},
   "source": [
    "Таким образом, $\\widetilde{f}_1(x, \\overline{a}) = 5.7 + 0.3x$ - искомая сглаживающая функция"
   ]
  },
  {
   "cell_type": "code",
   "execution_count": 46,
   "metadata": {},
   "outputs": [
    {
     "data": {
      "text/plain": [
       "1.0368220676663857"
      ]
     },
     "execution_count": 46,
     "metadata": {},
     "output_type": "execute_result"
    }
   ],
   "source": [
    "import math\n",
    "\n",
    "fmxa = map(lambda y: 5.7 + 0.3 * y, xi)\n",
    "\n",
    "delt = math.sqrt((1 / (i[len(i) - 1] + 1)) * sum(map(lambda x, y: math.pow(x - y, 2), fmxa, fi)))\n",
    "delt"
   ]
  },
  {
   "cell_type": "markdown",
   "metadata": {},
   "source": [
    "$\\delta_m(\\overline{a}) = 1.0368$."
   ]
  },
  {
   "cell_type": "markdown",
   "metadata": {},
   "source": [
    "#### Случай 2: \n",
    "$m = 2$\n",
    "\n",
    "Нужно решить систему\n",
    "\n",
    "\\begin{equation}\n",
    " \\begin{cases}\n",
    "   s_0 a_0 + s_1 a_1 + s_2 a_2 = t_0, \n",
    "   \\\\\n",
    "   s_1 a_0 + s_2 a_1 + s_3 a_2 = t_1,\n",
    "   \\\\\n",
    "   s_2 a_0 + s_3 a_1 + s_4 a_2 = t_2\n",
    " \\end{cases}\n",
    "\\end{equation} \n",
    "\n",
    "В соответствии с 4.53_0 получаем:"
   ]
  },
  {
   "cell_type": "code",
   "execution_count": 50,
   "metadata": {},
   "outputs": [
    {
     "name": "stdout",
     "output_type": "stream",
     "text": [
      "t_0 =  27\n",
      "t_1 =  96\n",
      "t_2 =  376\n",
      "s_0 =  4\n",
      "s_1 =  14\n",
      "s_2 =  54\n",
      "s_3 =  224\n",
      "s_4 =  978\n"
     ]
    }
   ],
   "source": [
    "t0 = sum(fi)\n",
    "t1 = sum(map(lambda x, y: y * x, xi, fi)) #x_i * f_i\n",
    "t2 = sum(map(lambda x, y: y * (x ** 2), xi, fi)) #x_i^2 * f_i\n",
    "\n",
    "s0 = i[len(i) - 1] + 1 \n",
    "s1 = sum(xi)\n",
    "\n",
    "s2 = sum(map(lambda y: y ** 2, xi)) # сумма квадратов xi\n",
    "s3 = sum(map(lambda y: y ** 3, xi))\n",
    "s4 = sum(map(lambda y: y ** 4, xi))\n",
    "\n",
    "\n",
    "print('t_0 = ', t0)\n",
    "print('t_1 = ', t1)\n",
    "print('t_2 = ', t2)\n",
    "\n",
    "print('s_0 = ', s0)\n",
    "print('s_1 = ', s1)\n",
    "print('s_2 = ', s2)\n",
    "print('s_3 = ', s3)\n",
    "print('s_4 = ', s4)"
   ]
  },
  {
   "cell_type": "markdown",
   "metadata": {},
   "source": [
    "Таким образом, система 4.53 имеет вид:\n",
    "\n",
    "\\begin{equation}\n",
    " \\begin{cases}\n",
    "   4 a_0 + 14 a_1 + 54 a_2 = 27, \n",
    "   \\\\\n",
    "   14 a_0 + 54 a_1 + 224 a_2 = 96,\n",
    "   \\\\\n",
    "   54 a_0 + 224 a_1 + 978 a_2 = 376\n",
    " \\end{cases}\n",
    "\\end{equation} \n",
    "Найдём  $a_0,a_1$  и  $a_2$  с помощью метода Гаусса:"
   ]
  },
  {
   "cell_type": "code",
   "execution_count": 51,
   "metadata": {},
   "outputs": [
    {
     "data": {
      "text/plain": [
       "[8.45, -1.45, 0.25]"
      ]
     },
     "execution_count": 51,
     "metadata": {},
     "output_type": "execute_result"
    }
   ],
   "source": [
    "myGauss([[4, 14, 54, 27], [14, 54, 224, 96], [54, 224, 978, 376]])"
   ]
  },
  {
   "cell_type": "markdown",
   "metadata": {},
   "source": [
    "Тогда  $\\widetilde{f}_2(x, \\overline{a}) = 8.45 - 1.45x + 0.25х^2$ - искомая сглаживающая функция"
   ]
  },
  {
   "cell_type": "code",
   "execution_count": 52,
   "metadata": {},
   "outputs": [
    {
     "data": {
      "text/plain": [
       "1.0062305898749055"
      ]
     },
     "execution_count": 52,
     "metadata": {},
     "output_type": "execute_result"
    }
   ],
   "source": [
    "fmxa = map(lambda y: 8.45 - 1.45 * y + 0.25 * y * y, xi)\n",
    "\n",
    "delt = math.sqrt((1 / (i[len(i) - 1] + 1)) * sum(map(lambda x, y: math.pow(x - y, 2), fmxa, fi)))\n",
    "delt"
   ]
  },
  {
   "cell_type": "markdown",
   "metadata": {},
   "source": [
    "$\\delta_m(\\overline{a}) = 1.0062$."
   ]
  },
  {
   "cell_type": "markdown",
   "metadata": {},
   "source": [
    "#### Пример 4.10 Решим задачу аппроксимации сеточной функции, заданной $y = \\ln x$ с погрешностью $\\varepsilon = 0.1$ таблицей:"
   ]
  },
  {
   "cell_type": "code",
   "execution_count": 53,
   "metadata": {},
   "outputs": [
    {
     "name": "stdout",
     "output_type": "stream",
     "text": [
      "i    x_i   f_i \n",
      "0     1     -0.07\n",
      "1     2     0.76\n",
      "2     3     1\n",
      "3     4     1.526\n",
      "4     5     1.449\n"
     ]
    }
   ],
   "source": [
    "i = [0, 1, 2, 3, 4]\n",
    "xi = [1, 2, 3, 4, 5]\n",
    "fi = [-0.07, 0.76, 1, 1.526, 1.449]\n",
    "print('i ', '  x_i ', ' f_i ')\n",
    "for idx in i:\n",
    "    print(idx, '   ', xi[idx], '   ', fi[idx])"
   ]
  },
  {
   "cell_type": "markdown",
   "metadata": {},
   "source": [
    "Нужно, чтобы $\\delta$ было меньше $\\varepsilon = 0.1$. Начнём с $m=1$ аналогично прошлой задаче:"
   ]
  },
  {
   "cell_type": "code",
   "execution_count": 54,
   "metadata": {},
   "outputs": [
    {
     "name": "stdout",
     "output_type": "stream",
     "text": [
      "t_0 =  4.665\n",
      "t_1 =  17.799\n",
      "s_0 =  5\n",
      "s_1 =  15\n",
      "s_2 =  55\n"
     ]
    }
   ],
   "source": [
    "t0 = sum(fi)\n",
    "t1 = sum(map(lambda x, y: y * x, xi, fi)) #x_i * f_i\n",
    "s0 = i[len(i) - 1] + 1 \n",
    "s1 = sum(xi)\n",
    "\n",
    "     # сумма квадратов xi\n",
    "s2 = sum(map(lambda y: y ** 2, xi))\n",
    "\n",
    "\n",
    "print('t_0 = ', t0)\n",
    "print('t_1 = ', t1)\n",
    "print('s_0 = ', s0)\n",
    "print('s_1 = ', s1)\n",
    "print('s_2 = ', s2)"
   ]
  },
  {
   "cell_type": "markdown",
   "metadata": {},
   "source": [
    "\\begin{equation}\n",
    " \\begin{cases}\n",
    "   5 a_0 + 15 a_1 = 4.665, \n",
    "   \\\\\n",
    "   15 a_0 + 55 a_1 = 17.799\n",
    " \\end{cases}\n",
    "\\end{equation} "
   ]
  },
  {
   "cell_type": "code",
   "execution_count": 55,
   "metadata": {},
   "outputs": [
    {
     "data": {
      "text/plain": [
       "[-0.20819999999999955, 0.38039999999999985]"
      ]
     },
     "execution_count": 55,
     "metadata": {},
     "output_type": "execute_result"
    }
   ],
   "source": [
    "myGauss([[5, 15, 4.665], [15, 55, 17.799]])"
   ]
  },
  {
   "cell_type": "code",
   "execution_count": 57,
   "metadata": {},
   "outputs": [
    {
     "data": {
      "text/plain": [
       "0.20556770174324568"
      ]
     },
     "execution_count": 57,
     "metadata": {},
     "output_type": "execute_result"
    }
   ],
   "source": [
    "fmxa = map(lambda y: -0.2082 + 0.3804 *y, xi)\n",
    "\n",
    "delt = math.sqrt((1 / (i[len(i) - 1] + 1)) * sum(map(lambda x, y: math.pow(x - y, 2), fmxa, fi)))\n",
    "delt"
   ]
  },
  {
   "cell_type": "markdown",
   "metadata": {},
   "source": [
    "$0.205 > 0.1$, значит не подходит и попробуем $m=2:$"
   ]
  },
  {
   "cell_type": "code",
   "execution_count": 58,
   "metadata": {},
   "outputs": [
    {
     "name": "stdout",
     "output_type": "stream",
     "text": [
      "t_0 =  4.665\n",
      "t_1 =  17.799\n",
      "t_2 =  72.611\n",
      "s_0 =  5\n",
      "s_1 =  15\n",
      "s_2 =  55\n",
      "s_3 =  225\n",
      "s_4 =  979\n"
     ]
    }
   ],
   "source": [
    "t0 = sum(fi)\n",
    "t1 = sum(map(lambda x, y: y * x, xi, fi)) #x_i * f_i\n",
    "t2 = sum(map(lambda x, y: y * (x ** 2), xi, fi)) #x_i^2 * f_i\n",
    "\n",
    "s0 = i[len(i) - 1] + 1 \n",
    "s1 = sum(xi)\n",
    "\n",
    "s2 = sum(map(lambda y: y ** 2, xi)) # сумма квадратов xi\n",
    "s3 = sum(map(lambda y: y ** 3, xi))\n",
    "s4 = sum(map(lambda y: y ** 4, xi))\n",
    "\n",
    "\n",
    "print('t_0 = ', t0)\n",
    "print('t_1 = ', t1)\n",
    "print('t_2 = ', t2)\n",
    "\n",
    "print('s_0 = ', s0)\n",
    "print('s_1 = ', s1)\n",
    "print('s_2 = ', s2)\n",
    "print('s_3 = ', s3)\n",
    "print('s_4 = ', s4)"
   ]
  },
  {
   "cell_type": "markdown",
   "metadata": {},
   "source": [
    "\\begin{equation}\n",
    " \\begin{cases}\n",
    "   5 a_0 + 15 a_1 + 55 a_2 = 4.665, \n",
    "   \\\\\n",
    "   15 a_0 + 55 a_1 + 225 a_2 = 17.799,\n",
    "   \\\\\n",
    "   55 a_0 + 225 a_1 + 979 a_2 = 72.611\n",
    " \\end{cases}\n",
    "\\end{equation} \n",
    "Найдём  $a_0,a_1$  и  $a_2$  с помощью метода Гаусса:"
   ]
  },
  {
   "cell_type": "code",
   "execution_count": 59,
   "metadata": {},
   "outputs": [
    {
     "data": {
      "text/plain": [
       "[-0.9721999999999917, 1.035257142857136, -0.10914285714285603]"
      ]
     },
     "execution_count": 59,
     "metadata": {},
     "output_type": "execute_result"
    }
   ],
   "source": [
    "myGauss([[5, 15, 55, 4.665], [15, 55, 225, 17.799], [55, 225, 979, 72.611]])"
   ]
  },
  {
   "cell_type": "code",
   "execution_count": 60,
   "metadata": {},
   "outputs": [
    {
     "data": {
      "text/plain": [
       "0.0943624289640745"
      ]
     },
     "execution_count": 60,
     "metadata": {},
     "output_type": "execute_result"
    }
   ],
   "source": [
    "fmxa = map(lambda y: -0.9721 + 1.0352 *y - 0.1091 *y*y , xi)\n",
    "\n",
    "delt = math.sqrt((1 / (i[len(i) - 1] + 1)) * sum(map(lambda x, y: math.pow(x - y, 2), fmxa, fi)))\n",
    "delt"
   ]
  },
  {
   "cell_type": "markdown",
   "metadata": {},
   "source": [
    "$0.094 < 0.1$, подходит, задача решена."
   ]
  },
  {
   "cell_type": "markdown",
   "metadata": {},
   "source": [
    "#### Применение эмпирических формул"
   ]
  },
  {
   "cell_type": "markdown",
   "metadata": {},
   "source": [
    "Исходя из приблизительного сходства с экспериментальными данными выбирается одна из двухпараметрических формул:\n",
    "$$\\widetilde{f}(x, a_0,a_1) = a_0+\\frac{a_1}{x}$$\n",
    "$$\\widetilde{f}(x, a_0,a_1) = a_0a_1^x$$\n",
    "$$\\widetilde{f}(x, a_0,a_1) = a_0+a_1 \\ln x$$\n",
    "$$\\widetilde{f}(x, a_0,a_1) = \\frac{1}{a_0+a_1x}$$\n",
    "$$\\widetilde{f}(x, a_0,a_1) = a_0e^{a_1x}$$\n",
    "$$\\widetilde{f}(x, a_0,a_1) = \\frac{a_0}{a_1 + x}$$\n",
    "$$\\widetilde{f}(x, a_0,a_1) = \\frac{x}{a_0 + a_1x}$$\n",
    "$$\\widetilde{f}(x, a_0,a_1) = \\frac{1}{a_0 + a_1e^{-x}}$$\n",
    "\n",
    "Требуется найти коэффициенты $a_1$ и $ a_2$, для которых \n",
    "$$ \\Delta = \\sum\\limits_{i=0}^{n} [\\widetilde{f}(x, a_0,a_1) - f_i]^2 \\rightarrow \\min\\limits_{\\overline{a}} $$\n",
    "Применяются необходимые условия экстремума: $$\\frac{\\partial \\Delta}{\\partial a_0} = 0, \\;\\;\\;\\;\\;\\; \\frac{\\partial \\Delta}{\\partial a_1} = 0.$$\n",
    "Таким образом, в отличие от степенных функций, решение сводится к решению двух нелинейных алгебраических уравнений методом простых итераций, Зейделя, Ньютона или их модификациями."
   ]
  },
  {
   "cell_type": "markdown",
   "metadata": {},
   "source": [
    "#### Применение ортогональных базисных функций"
   ]
  },
  {
   "cell_type": "markdown",
   "metadata": {},
   "source": [
    "При нахождении коэффициентов многочлена 4.43 с помощью ортогональных базисных функций нет необходимости решать систему 4.53. \n",
    "\n",
    "Функции $\\phi_k(x)$ и $\\phi_l(x)$ называются ортогональными во всех рассматриваемых точках $x_i$, если их скалярное произведение на этом множестве точек равно нулю:\n",
    "\n",
    "$$ (\\phi_k, \\phi_l) = \\sum\\limits_{i=0}^{n} \\phi_k(x_i) \\phi_l(x_i) = 0, \\;\\;\\;\\; k \\neq l. $$\n",
    "\n",
    "Система функций ортогональная на множестве точек, если все функции этой системы попарно ортогональны на этом множестве точек.\n",
    "Таким образом, все недиагональные элементы матрицы становятся равны 0 и коэффициенты находятся по формуле:\n",
    "\n",
    "$$a_j = \\frac{(f, \\phi_j)}{(\\phi_j, \\phi_j)} = \\frac{\\sum\\limits_{i=0}^{n} f_j \\cdot \\phi_j(x_i) }{\\sum\\limits_{i=0}^{n} \\phi_j^2(x_i)}, \\;\\;\\;\\; j = 0,1,...,m. \\tag{4.54}$$\n",
    "Коэффициенты 4.54 называются Коэффициентами Фурье функции $y_i = f(x_i)$ относительно ортогональной системы функций."
   ]
  },
  {
   "cell_type": "markdown",
   "metadata": {},
   "source": [
    "#### Теорема 4.2 О точечном среднеквадратичном приближении функций ортогональными многочленами\n",
    "\n",
    "Для функции $y_i = f(x_i)$, определенной на множестве точек $\\{x_i\\}$ обобщенный многочлен $m-$той степени $Q_m(x)$ с коэффициентами Фурье относительно ортогональной на этом множестве точек системы функций $\\{\\phi_j(x)\\}$ является многочленом наилучшего среднеквадратичного приближения этой функции, причём квадрат наименьшего среднеквадратичного отклонения определяется соотношением:\n",
    "$$\\rho^2(f, Q_m) = ||f||^2 - \\sum\\limits_{j=0}^{m}a_j^2||\\phi_j||^2, \\tag{4.55}$$\n",
    "где $a_j$ - коэффициенты Фурье, определяемые по формуле 4.54,\n",
    "$$||f||^2 = \\sum\\limits_{i=0}^{n}f_i^2$$\n",
    "$$ ||\\phi_j||^2 = \\sum\\limits_{i=0}^{n} \\phi_j^2(x_i) $$\n",
    "$$ \\rho(f, Q_m) = \\sqrt{\\sum\\limits_{i=0}^{n} [Q_m(x_i) - f_i]^2}$$\n",
    "Погрешность данного приближения вычисляется по формуле:\n",
    "$$\\overline{\\rho}(f, Q_m) = \\frac{\\rho(f, Q_m) }{||f||}\\tag{4.56}$$"
   ]
  },
  {
   "cell_type": "markdown",
   "metadata": {},
   "source": [
    "#### Многочлены Чебышева\n",
    "Многочленами Чебышева $g_0(x),...,g_m(x)$ на множестве точек $\\{x_i\\}$ называются алгебраические многочлены, которые ортогональны на этом множестве, с нормой $||g_k||$ отличной от нуля и определяется следующими рекуррентными формулами:\n",
    "$$g_0(x) = 1$$\n",
    "$$g_1(x) = x-a$$\n",
    "$$g_k(x) = (x-a_k)g_{k-1}(x)-b_kg_{k-2}(x), \\;\\;\\;\\; k = 2,3,4,...,m \\tag{4.57}$$\n",
    "где\n",
    "\n",
    "$$a = \\frac{1}{n+1}\\sum\\limits_{i=0}^{n}x_i, \\;\\;\\;\\; a_k = \\frac{\\sum\\limits_{i=0}^{n}x_i \\cdot g_{k-1}^2(x_i)}{\\sum\\limits_{i=0}^{n} g_{k-1}^2(x_i)}, \\;\\;\\;\\; b_k = \\frac{\\sum\\limits_{i=0}^{n}x_i \\cdot g_{k-2}(x_i) \\cdot g_{k-1}(x_i) }{\\sum\\limits_{i=0}^{n} g_{k-2}^2(x_i)} $$"
   ]
  },
  {
   "cell_type": "markdown",
   "metadata": {},
   "source": [
    "#### Пример 4.11 \n",
    "Дана сеточная функция"
   ]
  },
  {
   "cell_type": "code",
   "execution_count": 62,
   "metadata": {},
   "outputs": [
    {
     "name": "stdout",
     "output_type": "stream",
     "text": [
      "i    x_i   f_i \n",
      "0     0     4\n",
      "1     1     0\n",
      "2     3     1\n",
      "3     4     2\n"
     ]
    }
   ],
   "source": [
    "i = [0, 1, 2, 3]\n",
    "xi = [0, 1, 3, 4]\n",
    "fi = [4, 0, 1, 2]\n",
    "print('i ', '  x_i ', ' f_i ')\n",
    "for idx in i:\n",
    "    print(idx, '   ', xi[idx], '   ', fi[idx])"
   ]
  },
  {
   "cell_type": "markdown",
   "metadata": {},
   "source": [
    "Необходимо сгладить эту функцию алгебраическими многочленами наилучшего среднеквадратичного приближения\n",
    "$Q_0(x),Q_1(x),Q_2(x),Q_3(x)$ где \n",
    "$$Q_0(x) = a_0g_0(x),$$\n",
    "$$Q_1(x) = a_0g_0(x) + a_1g_1(x),$$\n",
    "$$Q_2(x) = a_0g_0(x) + a_1g_1(x) + a_2g_2(x),$$\n",
    "$$Q_3(x) = a_0g_0(x) + a_1g_1(x) + a_2g_2(x) +  a_3g_3(x)$$\n",
    "\n",
    "и найти погрешности $\\overline{\\rho}(f, Q_0),\\overline{\\rho}(f, Q_1), \\overline{\\rho}(f, Q_2), \\overline{\\rho}(f, Q_3)$."
   ]
  },
  {
   "cell_type": "markdown",
   "metadata": {},
   "source": [
    "Шаг 1: определим многочлены Чебышева $g_0(x),g_1(x),g_2(x),g_3(x)$ в соответствии с 4.57:"
   ]
  },
  {
   "cell_type": "code",
   "execution_count": 74,
   "metadata": {},
   "outputs": [
    {
     "name": "stdout",
     "output_type": "stream",
     "text": [
      "g_0 = 1\n",
      "g_1 = x - 2.0\n"
     ]
    }
   ],
   "source": [
    "n = 3\n",
    "\n",
    "#g_0 = 1\n",
    "#----------------------------\n",
    "#g_1 = x - a \n",
    "\n",
    "a_1 = (1 / (n + 1)) * sum(xi)\n",
    "#----------------------------\n",
    "print('g_0 = 1')\n",
    "print('g_1 = x -', a_1)\n",
    " "
   ]
  },
  {
   "cell_type": "markdown",
   "metadata": {},
   "source": [
    "Вычисляем $g_2(x) = (x-a_2)g_1(x) - b_2g_0(x)$:\n",
    "\n",
    "$$a_2 = \\frac{\\sum\\limits_{i=0}^{3}x_i \\cdot g_{1}^2(x_i)}{||g_1||^2}, \\;\\;\\;\\;  b_2 = \\frac{\\sum\\limits_{i=0}^{3}x_i \\cdot g_{0}(x_i) \\cdot g_{1}(x_i) }{||g_0||^2}$$"
   ]
  },
  {
   "cell_type": "code",
   "execution_count": 73,
   "metadata": {},
   "outputs": [
    {
     "name": "stdout",
     "output_type": "stream",
     "text": [
      "g_0_norm: 4\n",
      "g_1_norm: 10\n",
      "a_2: 2.0\n",
      "b_2: 2.5\n"
     ]
    }
   ],
   "source": [
    "g_0_norm = sum(map(lambda y: 1 ** 2, xi))\n",
    "g_1_norm = sum(map(lambda y: (y - 2) ** 2, xi))\n",
    "\n",
    "a_2 = (1 / g_1_norm) * sum(map(lambda y: y * (y - 2) ** 2, xi))\n",
    "b_2 = (1 / g_0_norm) * sum(map(lambda y: y * (y - 2) * 1, xi))\n",
    "\n",
    "print('g_0_norm:', g_0_norm)\n",
    "print('g_1_norm:', g_1_norm)\n",
    "print('a_2:', a_2)\n",
    "print('b_2:', b_2)"
   ]
  },
  {
   "cell_type": "markdown",
   "metadata": {},
   "source": [
    "Таким образом, $g_2(x) = (x-2)g_1(x) - 2.5g_0(x) = (x-2) \\cdot (x-2) - 2.5 \\cdot 1 = (x-2)^2 - 2.5$.\n",
    "\n",
    "Аналогично вычисляем $g_3(x) = (x-a_3)g_2(x) - b_3g_1(x)$. Неизвестны только $a_3$ и $b_3$:\n",
    "\n",
    "$$a_3 = \\frac{\\sum\\limits_{i=0}^{3}x_i \\cdot g_{2}^2(x_i)}{||g_2||^2}, \\;\\;\\;\\;  b_3 = \\frac{\\sum\\limits_{i=0}^{3}x_i \\cdot g_{1}(x_i) \\cdot g_{2}(x_i) }{||g_1||^2}$$"
   ]
  },
  {
   "cell_type": "code",
   "execution_count": 78,
   "metadata": {},
   "outputs": [
    {
     "name": "stdout",
     "output_type": "stream",
     "text": [
      "g_2_norm: 9.0\n",
      "a_3: 2.0\n",
      "b_3: 0.9\n"
     ]
    }
   ],
   "source": [
    "g_2_norm = sum(map(lambda y: ((y - 2) ** 2 - 2.5) ** 2, xi))\n",
    "\n",
    "a_3 = (1 / g_2_norm) * sum(map(lambda y: y * ((y - 2) ** 2 - 2.5) ** 2, xi))\n",
    "b_3 = (1 / g_1_norm) * sum(map(lambda y: y * ((y - 2) ** 2 - 2.5) * (y - 2) , xi))\n",
    "\n",
    "print('g_2_norm:', g_2_norm)\n",
    "print('a_3:', a_3)\n",
    "print('b_3:', b_3)"
   ]
  },
  {
   "cell_type": "markdown",
   "metadata": {},
   "source": [
    "Таким образом, $g_3(x) = (x-2) \\cdot [(x-2)^2 - 2.5] - 0.9 (x-2) = (x-2)^3 - 3.4 (x-2)$.\n",
    "\n",
    "Сразу посчитаем и $||g_3||^2$, которая понадобится дальше:"
   ]
  },
  {
   "cell_type": "code",
   "execution_count": 145,
   "metadata": {},
   "outputs": [
    {
     "name": "stdout",
     "output_type": "stream",
     "text": [
      "g_3_norm: 14.400000000000002\n"
     ]
    }
   ],
   "source": [
    "g_3_norm = sum(map(lambda y: ((y - 2) ** 3 - 3.4* (y-2)) ** 2, xi))\n",
    "print('g_3_norm:', g_3_norm)"
   ]
  },
  {
   "cell_type": "markdown",
   "metadata": {},
   "source": [
    "Запишем полученные данные в наглядном виде:"
   ]
  },
  {
   "cell_type": "code",
   "execution_count": 95,
   "metadata": {},
   "outputs": [
    {
     "name": "stdout",
     "output_type": "stream",
     "text": [
      "i    x_i   f_i   g_0   g_1     g_2     g_3 \n",
      "0     0     4     1     -2     1.5     -1.2000000000000002\n",
      "1     1     0     1     -1     -1.5     2.4\n",
      "2     3     1     1     1     -1.5     -2.4\n",
      "3     4     2     1     2     1.5     1.2000000000000002\n"
     ]
    }
   ],
   "source": [
    "g0 = list(map(lambda y: 1, xi))\n",
    "g1 = list(map(lambda y: (y - 2), xi))\n",
    "g2 = list(map(lambda y: ((y - 2) ** 2 - 2.5), xi))\n",
    "g3 = list(map(lambda y: ((y - 2) ** 3 - 3.4 * (y-2)), xi))\n",
    "\n",
    "print('i ', '  x_i ', ' f_i ', ' g_0 ', ' g_1 ', '   g_2 ', '   g_3 ')\n",
    "for idx in i:\n",
    "    print(idx, '   ', xi[idx], '   ', fi[idx], '   ', g0[idx], '   ', g1[idx], '   ', g2[idx], '   ', g3[idx])"
   ]
  },
  {
   "cell_type": "markdown",
   "metadata": {},
   "source": [
    "Шаг 2: определим многочлены наилучшего сраднеквадратичного приближения\n",
    "$$Q_0(x) = a_0g_0(x),$$\n",
    "$$Q_1(x) = a_0g_0(x) + a_1g_1(x),$$\n",
    "$$Q_2(x) = a_0g_0(x) + a_1g_1(x) + a_2g_2(x),$$\n",
    "$$Q_3(x) = a_0g_0(x) + a_1g_1(x) + a_2g_2(x) +  a_3g_3(x)$$"
   ]
  },
  {
   "cell_type": "code",
   "execution_count": 99,
   "metadata": {},
   "outputs": [
    {
     "name": "stdout",
     "output_type": "stream",
     "text": [
      "Q_0(x) =  1.75\n"
     ]
    }
   ],
   "source": [
    "a_0 = sum(map(lambda x, y: x * y, fi, g0)) / g_0_norm\n",
    "print('Q_0(x) = ', a_0)"
   ]
  },
  {
   "cell_type": "code",
   "execution_count": 103,
   "metadata": {},
   "outputs": [
    {
     "name": "stdout",
     "output_type": "stream",
     "text": [
      "Q_1 =  1.75  +  -0.3 * (x-2) = -0.3x + 2.35\n"
     ]
    }
   ],
   "source": [
    "a_1 = sum(map(lambda x, y: x * y, fi, g1)) / g_1_norm\n",
    "print('Q_1 = ', a_0, ' + ', a_1, '* (x-2) = -0.3x + 2.35') "
   ]
  },
  {
   "cell_type": "code",
   "execution_count": 106,
   "metadata": {},
   "outputs": [
    {
     "name": "stdout",
     "output_type": "stream",
     "text": [
      "Q_2 = -0.3x + 2.35 +  0.8333333333333334 * ((x-2)^2 - 2.5) = 0.833 x^2 - 3.63 x + 3.6\n"
     ]
    }
   ],
   "source": [
    "a_2 = sum(map(lambda x, y: x * y, fi, g2)) / g_2_norm\n",
    "print('Q_2 = -0.3x + 2.35 + ', a_2, '* ((x-2)^2 - 2.5) = 0.833 x^2 - 3.63 x + 3.6') "
   ]
  },
  {
   "cell_type": "code",
   "execution_count": 108,
   "metadata": {},
   "outputs": [
    {
     "name": "stdout",
     "output_type": "stream",
     "text": [
      "Q_3 = 0.833 x^2 - 3.63 x + 3.6  -0.3333333333333333 * ((y - 2) ** 3 - 3.4 * (y-2)) = -0.33 x^3 + 2.83 x^2 - 6.5 x + 4\n"
     ]
    }
   ],
   "source": [
    "a_3 = sum(map(lambda x, y: x * y, fi, g3)) / g_3_norm\n",
    "print('Q_3 = 0.833 x^2 - 3.63 x + 3.6 ', a_3, '* ((y - 2) ** 3 - 3.4 * (y-2)) = -0.33 x^3 + 2.83 x^2 - 6.5 x + 4') "
   ]
  },
  {
   "cell_type": "markdown",
   "metadata": {},
   "source": [
    "Запишем полученные данные в наглядном виде:"
   ]
  },
  {
   "cell_type": "code",
   "execution_count": 119,
   "metadata": {},
   "outputs": [
    {
     "name": "stdout",
     "output_type": "stream",
     "text": [
      "i    x_i   f_i     q_0     q_1       q_2     q_3 \n",
      "0     0     4     1.75     2.35     3.6     4.0\n",
      "1     1     0     1.75     2.05     0.8     0.0\n",
      "2     3     1     1.75     1.45     0.21     1.06\n",
      "3     4     2     1.75     1.15     2.41     2.16\n"
     ]
    }
   ],
   "source": [
    "q0 = list(map(lambda y: 1.75, xi))\n",
    "q1 = list(map(lambda y: -0.3 * y + 2.35, xi))\n",
    "q2 = list(map(lambda y: 0.833 * y ** 2 - 3.63 * y + 3.6, xi))\n",
    "q3 = list(map(lambda y: -0.33 * y ** 3 + 2.83 * y ** 2 - 6.5 * y + 4, xi))\n",
    "\n",
    "print('i ', '  x_i ', ' f_i ', '   q_0 ', '   q_1 ', '     q_2 ', '   q_3 ')\n",
    "for idx in i:\n",
    "    print(idx, '   ', xi[idx], '   ', fi[idx], '   ', \n",
    "          round(q0[idx], 2), '   ', round(q1[idx], 2), '   ', round(q2[idx], 2), '   ', round(q3[idx], 2))"
   ]
  },
  {
   "cell_type": "markdown",
   "metadata": {},
   "source": [
    "Шаг 3: найдём погрешности приближений  $\\overline{\\rho}(f, Q_0),\\overline{\\rho}(f, Q_1), \\overline{\\rho}(f, Q_2), \\overline{\\rho}(f, Q_3)$ по формулам 4.55 и 4.56. \n",
    "\n",
    "Сначала посчитаем $||f|| = \\sqrt{\\sum\\limits_{i=0}^{3}f_i^2}$:"
   ]
  },
  {
   "cell_type": "code",
   "execution_count": 125,
   "metadata": {},
   "outputs": [
    {
     "data": {
      "text/plain": [
       "4.58257569495584"
      ]
     },
     "execution_count": 125,
     "metadata": {},
     "output_type": "execute_result"
    }
   ],
   "source": [
    "f_norm = math.sqrt(sum(map(lambda y: y ** 2, fi)))\n",
    "f_norm"
   ]
  },
  {
   "cell_type": "markdown",
   "metadata": {},
   "source": [
    "Тогда $\\overline{\\rho}(f, Q_0) = \\frac{1}{||f||} \\cdot \\sqrt{||f||^2 - a_0 ^ 2 \\cdot ||g_0||^2} $"
   ]
  },
  {
   "cell_type": "code",
   "execution_count": 128,
   "metadata": {},
   "outputs": [
    {
     "data": {
      "text/plain": [
       "0.6454972243679028"
      ]
     },
     "execution_count": 128,
     "metadata": {},
     "output_type": "execute_result"
    }
   ],
   "source": [
    "pfq0 = (1 / f_norm) * math.sqrt(f_norm ** 2 - a_0  ** 2 * g_0_norm)\n",
    "pfq0"
   ]
  },
  {
   "cell_type": "code",
   "execution_count": 135,
   "metadata": {},
   "outputs": [
    {
     "data": {
      "text/plain": [
       "0.6113996432854077"
      ]
     },
     "execution_count": 135,
     "metadata": {},
     "output_type": "execute_result"
    }
   ],
   "source": [
    "pfq1 = (1 / f_norm) * math.sqrt(f_norm ** 2 - a_0  ** 2 * g_0_norm - a_1  ** 2 * g_1_norm)\n",
    "pfq1"
   ]
  },
  {
   "cell_type": "code",
   "execution_count": 139,
   "metadata": {},
   "outputs": [
    {
     "data": {
      "text/plain": [
       "0.27602622373694163"
      ]
     },
     "execution_count": 139,
     "metadata": {},
     "output_type": "execute_result"
    }
   ],
   "source": [
    "pfq2 = (1 / f_norm) * math.sqrt(f_norm ** 2 - a_0  ** 2 * g_0_norm - a_1  ** 2 * g_1_norm \n",
    "                                - a_2  ** 2 * g_2_norm)\n",
    "pfq2"
   ]
  },
  {
   "cell_type": "code",
   "execution_count": 153,
   "metadata": {},
   "outputs": [
    {
     "data": {
      "text/plain": [
       "0.046004370622823074"
      ]
     },
     "execution_count": 153,
     "metadata": {},
     "output_type": "execute_result"
    }
   ],
   "source": [
    "pfq3 = (1 / f_norm) * math.sqrt(f_norm ** 2 - a_0  ** 2 * g_0_norm - a_1  ** 2 * g_1_norm - a_2  ** 2 * g_2_norm \n",
    "                                - a_3 ** 2 * round(g_3_norm))\n",
    "pfq3"
   ]
  },
  {
   "cell_type": "markdown",
   "metadata": {},
   "source": [
    "Таким образом можно заметить отсутствие необходимости при изменении степени $m$ каждый раз заново рассчитывать коэффициенты, что является одним из преимуществ ортогональных многочленов. "
   ]
  },
  {
   "cell_type": "markdown",
   "metadata": {},
   "source": [
    "### 4.4.3. Метод наилучшего интегрального приближения"
   ]
  },
  {
   "cell_type": "markdown",
   "metadata": {
    "collapsed": true
   },
   "source": [
    "#### Глобальный способ\n",
    "\n",
    "В случае глобального способа будем искать коэффициенты сглаживающего многочлена\n",
    "$$\\widetilde{f}_m(x, \\overline{a}) = S_m(x) = a_0 + a_1x+...+a_mx^m$$\n",
    "при условии, что функция задана способом 4.45 или 4.46. \n",
    "\n",
    "В случае 4.45 имеем систему\n",
    "\\begin{equation}\n",
    " \\begin{cases}\n",
    "   \\int\\limits_{x_0}^{x_1} (a_0 + a_1x+...+a_mx^m)dx = I_0^1, \n",
    "   \\\\\n",
    "   \\int\\limits_{x_1}^{x_2} (a_0 + a_1x+...+a_mx^m)dx = I_1^2,\n",
    "   \\\\\n",
    "   ...\n",
    "   \\\\\n",
    "   \\int\\limits_{x_m}^{x_{m+1}} (a_0 + a_1x+...+a_mx^m)dx = I_m^{m+1}\n",
    " \\end{cases} \\tag{4.58}\n",
    "\\end{equation} \n",
    "А в случае 4.46 имеем:\n",
    "\\begin{equation}\n",
    " \\begin{cases}\n",
    "   \\int\\limits_{x_0}^{x_1} (a_0 + a_1x+...+a_mx^m)dx = I_0^1, \n",
    "   \\\\\n",
    "   \\int\\limits_{x_0}^{x_2} (a_0 + a_1x+...+a_mx^m)dx = I_0^2,\n",
    "   \\\\\n",
    "   ...\n",
    "   \\\\\n",
    "   \\int\\limits_{x_0}^{x_{m+1}} (a_0 + a_1x+...+a_mx^m)dx = I_0^{m+1}\n",
    " \\end{cases}\\tag{4.59}\n",
    "\\end{equation} \n",
    "Интегрируя левые части каждой из этих систем и решая соответствующие системы из $m+1$ алгебраического уравнения можно найти искомые коэффиценты $a_0,a_1,...,a_m$ и сглаживающие многочлены $\\widetilde{f}_m(x, \\overline{a})$.\n",
    "\n",
    "Примечания:\n",
    "* Системы 4.58 и 4.59 равносильны и получаются друг из друга путём попарного сложения и вычитания уравнений.\n",
    "* Эти системы также имеют единственное решение, так как определители матриц этих систем не равны 0.\n",
    "* При больших $m$ данный глобальный способ использовать не рекомендуется\n"
   ]
  },
  {
   "cell_type": "markdown",
   "metadata": {},
   "source": [
    "#### Кусочный способ\n",
    "\n",
    "Рассмотрим сеточную функцию $y_i=f(x_i),\\;\\; i = 0,...,n $  и  $h = const$. \n",
    "\n",
    "Пусть степень многочлена равна $m$ и он строится на некотором внутреннем отрезке $[x_k, x_{k+m+1}], k = 0,1, ..., n-m-1.$ \n",
    "\n",
    "Этот отрезок включает в себя $m+1$ частичных отрезков, на которых заданы интегралы $I_{k}^{k+1}, I_{k+1}^{k+2}, ..., I_{k+m+1}^{k+m}$. \n",
    "\n",
    "Для упрощения обозначений будем считать, что для $m=1$ на частичном отрезке $[x_k,x_{k+2}]$ определено дополнительное разбиение этого отрезка на два подотрезка $(p=2)$, для $m=2$ на частичном отрезке $[x_k,x_{k+3}]$ определено дополнительное разбиение на три подотрезка $(p=3)$ и т.д.\n",
    "\n",
    "Конечно-интегральные разности определяются по следующим формулам:\n",
    "* Первого порядка ($m=1, p=2$): $$\\Delta I_k^{k + \\frac{1}{p}} = I_{k + \\frac{1}{p}}^{k + \\frac{2}{p}} - I_k^{k + \\frac{1}{p}} $$\n",
    "* Второго порядка ($m=2, p=3$): $$\\Delta^2 I_k^{k + \\frac{1}{p}} = \\Delta I_{k + \\frac{1}{p}}^{k + \\frac{2}{p}} - \\Delta I_k^{k + \\frac{1}{p}} = I_k^{k + \\frac{1}{p}} - 2 I_{k + \\frac{1}{p}}^{k + \\frac{2}{p}} + I^{k + \\frac{3}{p}}_{{k + \\frac{2}{p}}}  $$\n",
    "* $i$-го порядка ($m=i, p=i+1$):\n",
    "$$\\Delta^i I_k^{k + \\frac{1}{p}} = \\Delta^{i-1} I_{k + \\frac{1}{p}}^{k + \\frac{2}{p}} - \\Delta^{i-1} I_k^{k + \\frac{1}{p}} = \\sum\\limits_{j=0}^{i}(-1)^j C_i^jI^{k + \\frac{j+1}{p}}_{k+ \\frac{j}{p}}$$\n",
    "\n",
    "Таким образом, $S_1(x), S_2(x), S_3(x)$ на отрезках $[x_k, x_{k+2}],[x_k, x_{k+3}], [x_k, x_{k+4}]$ получаем:\n",
    "\n",
    "$$S_1(x) = \\frac{2}{h_k}(I_k^{k + \\frac{1}{2}} - \\frac{1}{2}\\Delta I_k^{k + \\frac{1}{2}})+ \\frac{2^2}{h_k^2} \\Delta I_k^{k + \\frac{1}{2}} (x-x_k) \\tag{4.60}$$\n",
    "\n",
    "$S_2(x) = \\frac{3}{h_k}(I_k^{k + \\frac{1}{3}} - \\frac{1}{2}\\Delta I_k^{k + \\frac{1}{3}} + \\frac{1}{3}\\Delta^2 I_k^{k + \\frac{1}{3}}) + \\frac{3^2}{h_k^2}(\\Delta I_k^{k + \\frac{1}{3}} - \\Delta^2 I_k^{k + \\frac{1}{3}})(x-x_k) + \\frac{3^3}{2h_k^3}\\Delta^2 I_k^{k + \\frac{1}{3}}(x-x_k)^2 \\tag{4.61}$\n",
    "\n",
    "$$ S_3(x) = \\frac{4}{h_k}(I_k^{k + \\frac{1}{4}} - \\frac{1}{2}\\Delta I_k^{k + \\frac{1}{4}} + \\frac{1}{3}\\Delta^2 I_k^{k + \\frac{1}{4}} - \\frac{1}{4}\\Delta^3 I_k^{k + \\frac{1}{4}} ) + \\frac{4^2}{h_k^2}(\\Delta I_k^{k + \\frac{1}{4}} - \\Delta^2 I_k^{k + \\frac{1}{4}} + \\frac{11}{12}\\Delta^3 I_k^{k + \\frac{1}{4}})(x-x_k) + \\frac{4^3}{h_k^3}(\\frac{1}{2} \\Delta^2 I_k^{k + \\frac{1}{4}} - \\frac{3}{4} \\Delta^3 I_k^{k + \\frac{1}{4}})(x-x_k)^2 + \\frac{4^4}{6h_k^4}\\Delta^3 I_k^{k + \\frac{1}{4}}(x-x_k)^3  \\tag{4.62} $$\n",
    "\n",
    "Здесь $h_k$ - шаг, относящийся к внутреннему отрезку. Коэффициенты многочленов более высоких степеней могут быть получены рекуррентным способом. Так, в отличие от метода наименьших квадратов, данный метод может быть реализован по готовым формулам и поэтому не приходится решать системы алгебраических уравнений относительно коэффициентов.\n",
    "\n",
    "Методика решения:\n",
    "* Выбрать степень $m$ и отрезок, на котором строится многочлен. \n",
    "* Подситать конечно-интегральные разности до $m$-го порядка включительно.\n",
    "* Записать сглаживащий многочлен $S_m(x)$"
   ]
  },
  {
   "cell_type": "markdown",
   "metadata": {},
   "source": [
    "#### Пример 4.12: решить задачу 4.10 методом интегрального приближения"
   ]
  },
  {
   "cell_type": "code",
   "execution_count": 1,
   "metadata": {},
   "outputs": [
    {
     "name": "stdout",
     "output_type": "stream",
     "text": [
      "i    x_i   f_i \n",
      "0     1     -0.07\n",
      "1     2     0.76\n",
      "2     3     1\n",
      "3     4     1.526\n",
      "4     5     1.449\n"
     ]
    }
   ],
   "source": [
    "i = [0, 1, 2, 3, 4]\n",
    "xi = [1, 2, 3, 4, 5]\n",
    "fi = [-0.07, 0.76, 1, 1.526, 1.449]\n",
    "print('i ', '  x_i ', ' f_i ')\n",
    "for idx in i:\n",
    "    print(idx, '   ', xi[idx], '   ', fi[idx])"
   ]
  },
  {
   "cell_type": "markdown",
   "metadata": {},
   "source": [
    "1 этап. Сеточная функция задана с шагом $h = 1$. Пусть $m=3$. Так как $[x_0, x_n] = [x_0, x_4], $то $n = 4$. \n",
    "\n",
    "Так как $n-m-1 = 4-3-1=0$, то $k = 0$, а частичный отрезок $[x_0, x_4]$ совпадает с отрезком $[a,b] = [1, 5]$."
   ]
  },
  {
   "cell_type": "markdown",
   "metadata": {},
   "source": [
    "2 этап. Рассчитаем интегралы по квадратурной формуле трапеций: $I_i^{i+\\frac{1}{4}} = \\frac{h}{2}(f_i+f_{i+\\frac{1}{4}})$:"
   ]
  },
  {
   "cell_type": "code",
   "execution_count": 22,
   "metadata": {},
   "outputs": [
    {
     "name": "stdout",
     "output_type": "stream",
     "text": [
      "0.345\n",
      "0.88\n",
      "1.263\n",
      "1.4875\n"
     ]
    }
   ],
   "source": [
    "#сдвиг на 1 fi сделать\n",
    "def rotate(l, n):\n",
    "    return l[-n:] + l[:-n]\n",
    "\n",
    "\n",
    "id0 = list(map(lambda y, z: (1 / 2) * (y + z), fi[0:4], rotate(fi, -1)[0:4]))\n",
    "\n",
    "for idx in id0:\n",
    "    print(idx)"
   ]
  },
  {
   "cell_type": "code",
   "execution_count": 42,
   "metadata": {},
   "outputs": [
    {
     "name": "stdout",
     "output_type": "stream",
     "text": [
      "0.535\n",
      "0.383\n",
      "0.2245\n"
     ]
    }
   ],
   "source": [
    "#остальные как разности\n",
    "id1 = [id0[1] - id0[0], id0[2] - id0[1], id0[3] - id0[2]]\n",
    "\n",
    "for idx in id1:\n",
    "    print(round(idx, 4))"
   ]
  },
  {
   "cell_type": "code",
   "execution_count": 43,
   "metadata": {},
   "outputs": [
    {
     "name": "stdout",
     "output_type": "stream",
     "text": [
      "-0.152\n",
      "-0.1585\n"
     ]
    }
   ],
   "source": [
    "id2 = [id1[1] - id1[0], id1[2] - id1[1]]\n",
    "for idx in id2:\n",
    "    print(round(idx, 4))"
   ]
  },
  {
   "cell_type": "code",
   "execution_count": 45,
   "metadata": {},
   "outputs": [
    {
     "name": "stdout",
     "output_type": "stream",
     "text": [
      "-0.0065\n"
     ]
    }
   ],
   "source": [
    "id3 = id2[1] - id2[0]\n",
    "print(round(id3, 4))"
   ]
  },
  {
   "cell_type": "markdown",
   "metadata": {},
   "source": [
    "Подставим полученные значения в формулу при учёте $h_k = 5 - 1 = 4$:\n",
    "$$ S_3(x) = \\frac{4}{h_k}(I_k^{k + \\frac{1}{4}} - \\frac{1}{2}\\Delta I_k^{k + \\frac{1}{4}} + \\frac{1}{3}\\Delta^2 I_k^{k + \\frac{1}{4}} - \\frac{1}{4}\\Delta^3 I_k^{k + \\frac{1}{4}} ) + \\frac{4^2}{h_k^2}(\\Delta I_k^{k + \\frac{1}{4}} - \\Delta^2 I_k^{k + \\frac{1}{4}} + \\frac{11}{12}\\Delta^3 I_k^{k + \\frac{1}{4}})(x-x_k) + \\frac{4^3}{h_k^3}(\\frac{1}{2} \\Delta^2 I_k^{k + \\frac{1}{4}} - \\frac{3}{4} \\Delta^3 I_k^{k + \\frac{1}{4}})(x-x_k)^2 + \\frac{4^4}{6h_k^4}\\Delta^3 I_k^{k + \\frac{1}{4}}(x-x_k)^3 $$"
   ]
  },
  {
   "cell_type": "code",
   "execution_count": 58,
   "metadata": {},
   "outputs": [
    {
     "data": {
      "text/plain": [
       "0.0285"
      ]
     },
     "execution_count": 58,
     "metadata": {},
     "output_type": "execute_result"
    }
   ],
   "source": [
    "hk = 4\n",
    "\n",
    "coeff1 = round((4 / hk) * (id0[0] - (1/2) * id1[0] + (1/3) * id2[0] - (1/4) * id3), 4)\n",
    "coeff1"
   ]
  },
  {
   "cell_type": "code",
   "execution_count": 59,
   "metadata": {},
   "outputs": [
    {
     "data": {
      "text/plain": [
       "0.681"
      ]
     },
     "execution_count": 59,
     "metadata": {},
     "output_type": "execute_result"
    }
   ],
   "source": [
    "coeff2 = round(((4 ** 2)  / (hk ** 2)) * (id1[0] - id2[0] + (11/12) * id3), 4)\n",
    "coeff2"
   ]
  },
  {
   "cell_type": "code",
   "execution_count": 60,
   "metadata": {},
   "outputs": [
    {
     "data": {
      "text/plain": [
       "-0.0711"
      ]
     },
     "execution_count": 60,
     "metadata": {},
     "output_type": "execute_result"
    }
   ],
   "source": [
    "coeff3 = round(((4 ** 3)  / (hk ** 3)) * ( (1/2) * id2[0] - (3/4) * id3), 4)\n",
    "coeff3"
   ]
  },
  {
   "cell_type": "code",
   "execution_count": 61,
   "metadata": {},
   "outputs": [
    {
     "data": {
      "text/plain": [
       "-0.0011"
      ]
     },
     "execution_count": 61,
     "metadata": {},
     "output_type": "execute_result"
    }
   ],
   "source": [
    "coeff4 = round(((4 ** 4)  / (6 * hk ** 4)) * (id3), 4)\n",
    "coeff4"
   ]
  },
  {
   "cell_type": "code",
   "execution_count": 63,
   "metadata": {},
   "outputs": [
    {
     "name": "stdout",
     "output_type": "stream",
     "text": [
      "S_3(x) = 0.0285 + 0.681 (x-1) -0.0711 (x-1)^2 -0.0011 (x-1)^3\n"
     ]
    }
   ],
   "source": [
    "print('S_3(x) =', coeff1, '+', coeff2, '(x-1)', coeff3, '(x-1)^2', coeff4, '(x-1)^3')"
   ]
  },
  {
   "cell_type": "markdown",
   "metadata": {},
   "source": [
    "Посчитаем погрешность"
   ]
  },
  {
   "cell_type": "code",
   "execution_count": 75,
   "metadata": {},
   "outputs": [
    {
     "data": {
      "text/plain": [
       "0.10839362527381395"
      ]
     },
     "execution_count": 75,
     "metadata": {},
     "output_type": "execute_result"
    }
   ],
   "source": [
    "import math\n",
    "fmxa = (map(lambda y: 0.0285 + 0.681 * (y-1) - 0.0711 * (y-1) ** 2 - 0.0011 * (y-1) ** 3, xi))\n",
    "\n",
    "delt = math.sqrt((1 / (i[len(i) - 1] + 1)) * sum(map(lambda x, y: math.pow(x - y, 2), fmxa, fi)))\n",
    "delt"
   ]
  },
  {
   "cell_type": "markdown",
   "metadata": {},
   "source": [
    "$0.108$ близко к $\\varepsilon = 0.1$, верно, задача решена."
   ]
  },
  {
   "cell_type": "markdown",
   "metadata": {},
   "source": [
    "### Дополнительные задачи в конце параграфа"
   ]
  },
  {
   "cell_type": "markdown",
   "metadata": {},
   "source": [
    "#### Задача 7б, 1 таблица"
   ]
  },
  {
   "cell_type": "markdown",
   "metadata": {},
   "source": [
    "#### Случай 1: \n",
    "$m = 1$"
   ]
  },
  {
   "cell_type": "code",
   "execution_count": 84,
   "metadata": {},
   "outputs": [
    {
     "name": "stdout",
     "output_type": "stream",
     "text": [
      "i    x_i   f_i \n",
      "0     2     5\n",
      "1     4     2\n",
      "2     6     3\n",
      "3     8     1\n"
     ]
    }
   ],
   "source": [
    "i = [0, 1, 2, 3]\n",
    "xi = [2, 4, 6, 8]\n",
    "fi = [5, 2, 3, 1]\n",
    "print('i ', '  x_i ', ' f_i ')\n",
    "for idx in i:\n",
    "    print(idx, '   ', xi[idx], '   ', fi[idx])"
   ]
  },
  {
   "cell_type": "code",
   "execution_count": 85,
   "metadata": {},
   "outputs": [
    {
     "name": "stdout",
     "output_type": "stream",
     "text": [
      "t_0 =  11\n",
      "t_1 =  44\n",
      "s_0 =  4\n",
      "s_1 =  20\n",
      "s_2 =  120\n"
     ]
    }
   ],
   "source": [
    "t0 = sum(fi)\n",
    "t1 = sum(map(lambda x, y: y * x, xi, fi)) #x_i * f_i\n",
    "s0 = i[len(i) - 1] + 1 \n",
    "s1 = sum(xi)\n",
    "\n",
    "     # сумма квадратов xi\n",
    "s2 = sum(map(lambda y: y ** 2, xi))\n",
    "\n",
    "\n",
    "print('t_0 = ', t0)\n",
    "print('t_1 = ', t1)\n",
    "print('s_0 = ', s0)\n",
    "print('s_1 = ', s1)\n",
    "print('s_2 = ', s2)"
   ]
  },
  {
   "cell_type": "markdown",
   "metadata": {},
   "source": [
    "Таким образом, система 4.53 имеет вид:\n",
    "\\begin{equation}\n",
    " \\begin{cases}\n",
    "   4 a_0 + 20 a_1 = 11, \n",
    "   \\\\\n",
    "   20 a_0 + 120 a_1 = 44\n",
    " \\end{cases}\n",
    "\\end{equation} \n",
    "Найдём $a_0 $ и $ a_1$ с помощью метода Гаусса:"
   ]
  },
  {
   "cell_type": "code",
   "execution_count": 86,
   "metadata": {},
   "outputs": [
    {
     "data": {
      "text/plain": [
       "[5.5, -0.55]"
      ]
     },
     "execution_count": 86,
     "metadata": {},
     "output_type": "execute_result"
    }
   ],
   "source": [
    "myGauss([[4, 20, 11], [20, 120, 44]])"
   ]
  },
  {
   "cell_type": "markdown",
   "metadata": {},
   "source": [
    "Таким образом, $\\widetilde{f}_1(x, \\overline{a}) = 5.5 - 0.55x$ - искомая сглаживающая функция, погрешность равна:"
   ]
  },
  {
   "cell_type": "code",
   "execution_count": 87,
   "metadata": {},
   "outputs": [
    {
     "data": {
      "text/plain": [
       "0.8215838362577491"
      ]
     },
     "execution_count": 87,
     "metadata": {},
     "output_type": "execute_result"
    }
   ],
   "source": [
    "fmxa = map(lambda y: 5.5 - 0.55 * y, xi)\n",
    "\n",
    "delt = math.sqrt((1 / (i[len(i) - 1] + 1)) * sum(map(lambda x, y: math.pow(x - y, 2), fmxa, fi)))\n",
    "delt"
   ]
  },
  {
   "cell_type": "markdown",
   "metadata": {},
   "source": [
    "#### Случай 2: \n",
    "$m = 2$\n",
    "\n",
    "Нужно решить систему\n",
    "\n",
    "\\begin{equation}\n",
    " \\begin{cases}\n",
    "   s_0 a_0 + s_1 a_1 + s_2 a_2 = t_0, \n",
    "   \\\\\n",
    "   s_1 a_0 + s_2 a_1 + s_3 a_2 = t_1,\n",
    "   \\\\\n",
    "   s_2 a_0 + s_3 a_1 + s_4 a_2 = t_2\n",
    " \\end{cases}\n",
    "\\end{equation} \n",
    "\n",
    "В соответствии с 4.53_0 получаем:"
   ]
  },
  {
   "cell_type": "code",
   "execution_count": 88,
   "metadata": {},
   "outputs": [
    {
     "name": "stdout",
     "output_type": "stream",
     "text": [
      "t_0 =  11\n",
      "t_1 =  44\n",
      "t_2 =  224\n",
      "s_0 =  4\n",
      "s_1 =  20\n",
      "s_2 =  120\n",
      "s_3 =  800\n",
      "s_4 =  5664\n"
     ]
    }
   ],
   "source": [
    "t0 = sum(fi)\n",
    "t1 = sum(map(lambda x, y: y * x, xi, fi)) #x_i * f_i\n",
    "t2 = sum(map(lambda x, y: y * (x ** 2), xi, fi)) #x_i^2 * f_i\n",
    "\n",
    "s0 = i[len(i) - 1] + 1 \n",
    "s1 = sum(xi)\n",
    "\n",
    "s2 = sum(map(lambda y: y ** 2, xi)) # сумма квадратов xi\n",
    "s3 = sum(map(lambda y: y ** 3, xi))\n",
    "s4 = sum(map(lambda y: y ** 4, xi))\n",
    "\n",
    "\n",
    "print('t_0 = ', t0)\n",
    "print('t_1 = ', t1)\n",
    "print('t_2 = ', t2)\n",
    "\n",
    "print('s_0 = ', s0)\n",
    "print('s_1 = ', s1)\n",
    "print('s_2 = ', s2)\n",
    "print('s_3 = ', s3)\n",
    "print('s_4 = ', s4)"
   ]
  },
  {
   "cell_type": "markdown",
   "metadata": {},
   "source": [
    "Таким образом, система 4.53 имеет вид:\n",
    "\n",
    "\\begin{equation}\n",
    " \\begin{cases}\n",
    "   4 a_0 + 20 a_1 + 120 a_2 = 11, \n",
    "   \\\\\n",
    "   20 a_0 + 120 a_1 + 800 a_2 = 44,\n",
    "   \\\\\n",
    "   120 a_0 + 800 a_1 + 5664 a_2 = 224\n",
    " \\end{cases}\n",
    "\\end{equation} \n",
    "Найдём  $a_0,a_1$  и  $a_2$  с помощью метода Гаусса:"
   ]
  },
  {
   "cell_type": "code",
   "execution_count": 89,
   "metadata": {},
   "outputs": [
    {
     "data": {
      "text/plain": [
       "[6.75, -1.175, 0.0625]"
      ]
     },
     "execution_count": 89,
     "metadata": {},
     "output_type": "execute_result"
    }
   ],
   "source": [
    "myGauss([[4, 20, 120, 11], [20, 120, 800, 44], [120, 800, 5664, 224]])"
   ]
  },
  {
   "cell_type": "markdown",
   "metadata": {},
   "source": [
    "Тогда  $\\widetilde{f}_2(x, \\overline{a}) = 6.75 - 1.175x + 0.0625х^2$ - искомая сглаживающая функция"
   ]
  },
  {
   "cell_type": "code",
   "execution_count": 90,
   "metadata": {},
   "outputs": [
    {
     "data": {
      "text/plain": [
       "0.7826237921249265"
      ]
     },
     "execution_count": 90,
     "metadata": {},
     "output_type": "execute_result"
    }
   ],
   "source": [
    "fmxa = map(lambda y: 6.75 - 1.175 * y + 0.0625 * y * y, xi)\n",
    "\n",
    "delt = math.sqrt((1 / (i[len(i) - 1] + 1)) * sum(map(lambda x, y: math.pow(x - y, 2), fmxa, fi)))\n",
    "delt"
   ]
  },
  {
   "cell_type": "markdown",
   "metadata": {},
   "source": [
    "$\\delta_m(\\overline{a}) = 0.7826$."
   ]
  },
  {
   "cell_type": "markdown",
   "metadata": {},
   "source": [
    "#### Задача 7б, 2 таблица"
   ]
  },
  {
   "cell_type": "code",
   "execution_count": 93,
   "metadata": {},
   "outputs": [
    {
     "name": "stdout",
     "output_type": "stream",
     "text": [
      "i    x_i   f_i \n",
      "0     1     4\n",
      "1     2     2\n",
      "2     3     5\n",
      "3     4     8\n",
      "4     5     2\n"
     ]
    }
   ],
   "source": [
    "i = [0, 1, 2, 3, 4]\n",
    "xi = [1, 2, 3, 4, 5]\n",
    "fi = [4, 2, 5, 8, 2]\n",
    "print('i ', '  x_i ', ' f_i ')\n",
    "for idx in i:\n",
    "    print(idx, '   ', xi[idx], '   ', fi[idx])"
   ]
  },
  {
   "cell_type": "markdown",
   "metadata": {},
   "source": [
    "Начнём с $m=1$:"
   ]
  },
  {
   "cell_type": "code",
   "execution_count": 94,
   "metadata": {},
   "outputs": [
    {
     "name": "stdout",
     "output_type": "stream",
     "text": [
      "t_0 =  21\n",
      "t_1 =  65\n",
      "s_0 =  5\n",
      "s_1 =  15\n",
      "s_2 =  55\n"
     ]
    }
   ],
   "source": [
    "t0 = sum(fi)\n",
    "t1 = sum(map(lambda x, y: y * x, xi, fi)) #x_i * f_i\n",
    "s0 = i[len(i) - 1] + 1 \n",
    "s1 = sum(xi)\n",
    "\n",
    "     # сумма квадратов xi\n",
    "s2 = sum(map(lambda y: y ** 2, xi))\n",
    "\n",
    "\n",
    "print('t_0 = ', t0)\n",
    "print('t_1 = ', t1)\n",
    "print('s_0 = ', s0)\n",
    "print('s_1 = ', s1)\n",
    "print('s_2 = ', s2)"
   ]
  },
  {
   "cell_type": "markdown",
   "metadata": {},
   "source": [
    "\\begin{equation}\n",
    " \\begin{cases}\n",
    "   5 a_0 + 15 a_1 = 21, \n",
    "   \\\\\n",
    "   15 a_0 + 55 a_1 = 65\n",
    " \\end{cases}\n",
    "\\end{equation} "
   ]
  },
  {
   "cell_type": "code",
   "execution_count": 95,
   "metadata": {},
   "outputs": [
    {
     "data": {
      "text/plain": [
       "[3.6, 0.2]"
      ]
     },
     "execution_count": 95,
     "metadata": {},
     "output_type": "execute_result"
    }
   ],
   "source": [
    "myGauss([[5, 15, 21], [15, 55, 65]])"
   ]
  },
  {
   "cell_type": "code",
   "execution_count": 97,
   "metadata": {},
   "outputs": [
    {
     "data": {
      "text/plain": [
       "2.209072203437452"
      ]
     },
     "execution_count": 97,
     "metadata": {},
     "output_type": "execute_result"
    }
   ],
   "source": [
    "fmxa = map(lambda y: 3.6 + 0.2 *y, xi)\n",
    "\n",
    "delt = math.sqrt((1 / (i[len(i) - 1] + 1)) * sum(map(lambda x, y: math.pow(x - y, 2), fmxa, fi)))\n",
    "delt"
   ]
  },
  {
   "cell_type": "markdown",
   "metadata": {},
   "source": [
    "Случай $m=2:$"
   ]
  },
  {
   "cell_type": "code",
   "execution_count": 98,
   "metadata": {},
   "outputs": [
    {
     "name": "stdout",
     "output_type": "stream",
     "text": [
      "t_0 =  21\n",
      "t_1 =  65\n",
      "t_2 =  235\n",
      "s_0 =  5\n",
      "s_1 =  15\n",
      "s_2 =  55\n",
      "s_3 =  225\n",
      "s_4 =  979\n"
     ]
    }
   ],
   "source": [
    "t0 = sum(fi)\n",
    "t1 = sum(map(lambda x, y: y * x, xi, fi)) #x_i * f_i\n",
    "t2 = sum(map(lambda x, y: y * (x ** 2), xi, fi)) #x_i^2 * f_i\n",
    "\n",
    "s0 = i[len(i) - 1] + 1 \n",
    "s1 = sum(xi)\n",
    "\n",
    "s2 = sum(map(lambda y: y ** 2, xi)) # сумма квадратов xi\n",
    "s3 = sum(map(lambda y: y ** 3, xi))\n",
    "s4 = sum(map(lambda y: y ** 4, xi))\n",
    "\n",
    "\n",
    "print('t_0 = ', t0)\n",
    "print('t_1 = ', t1)\n",
    "print('t_2 = ', t2)\n",
    "\n",
    "print('s_0 = ', s0)\n",
    "print('s_1 = ', s1)\n",
    "print('s_2 = ', s2)\n",
    "print('s_3 = ', s3)\n",
    "print('s_4 = ', s4)"
   ]
  },
  {
   "cell_type": "markdown",
   "metadata": {},
   "source": [
    "\\begin{equation}\n",
    " \\begin{cases}\n",
    "   5 a_0 + 15 a_1 + 55 a_2 = 21, \n",
    "   \\\\\n",
    "   15 a_0 + 55 a_1 + 225 a_2 = 65,\n",
    "   \\\\\n",
    "   55 a_0 + 225 a_1 + 979 a_2 = 235\n",
    " \\end{cases}\n",
    "\\end{equation} \n",
    "Найдём  $a_0,a_1$  и  $a_2$  с помощью метода Гаусса:"
   ]
  },
  {
   "cell_type": "code",
   "execution_count": 99,
   "metadata": {},
   "outputs": [
    {
     "data": {
      "text/plain": [
       "[-0.4000000000000007, 3.6285714285714286, -0.5714285714285714]"
      ]
     },
     "execution_count": 99,
     "metadata": {},
     "output_type": "execute_result"
    }
   ],
   "source": [
    "myGauss([[5, 15, 55, 21], [15, 55, 225, 65], [55, 225, 979, 235]])"
   ]
  },
  {
   "cell_type": "markdown",
   "metadata": {},
   "source": [
    "Погрешность:"
   ]
  },
  {
   "cell_type": "code",
   "execution_count": 102,
   "metadata": {},
   "outputs": [
    {
     "data": {
      "text/plain": [
       "1.9914106979726711"
      ]
     },
     "execution_count": 102,
     "metadata": {},
     "output_type": "execute_result"
    }
   ],
   "source": [
    "fmxa = map(lambda y: -0.4 + 3.628 *y - 0.5714 *y*y , xi)\n",
    "\n",
    "delt = math.sqrt((1 / (i[len(i) - 1] + 1)) * sum(map(lambda x, y: math.pow(x - y, 2), fmxa, fi)))\n",
    "delt"
   ]
  },
  {
   "cell_type": "code",
   "execution_count": null,
   "metadata": {
    "collapsed": true
   },
   "outputs": [],
   "source": []
  }
 ],
 "metadata": {
  "kernelspec": {
   "display_name": "Python 3",
   "language": "python",
   "name": "python3"
  },
  "language_info": {
   "codemirror_mode": {
    "name": "ipython",
    "version": 3
   },
   "file_extension": ".py",
   "mimetype": "text/x-python",
   "name": "python",
   "nbconvert_exporter": "python",
   "pygments_lexer": "ipython3",
   "version": "3.6.3"
  }
 },
 "nbformat": 4,
 "nbformat_minor": 2
}
