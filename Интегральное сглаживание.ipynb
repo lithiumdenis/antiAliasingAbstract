{
 "cells": [
  {
   "cell_type": "markdown",
   "metadata": {},
   "source": [
    "## 4.4 Методы интегрального сглаживания\n",
    "### 4.4.1. Постановка задачи"
   ]
  },
  {
   "cell_type": "markdown",
   "metadata": {},
   "source": [
    "Часто в ходе физических экспериментов экспериментальные данные представляются в виде \n",
    "* Таблиц \n",
    "* Сеточных функций $y_i=f(x_i) \\pm \\varepsilon_i$, где $\\varepsilon_i$ - погрешность измерения.\n",
    "\n",
    "Например, может быть получена следующая зависимость:"
   ]
  },
  {
   "cell_type": "code",
   "execution_count": 57,
   "metadata": {},
   "outputs": [
    {
     "name": "stdout",
     "output_type": "stream",
     "text": [
      "x_i,             y_i\n",
      "1       0.8414709848078965\n",
      "2       0.9092974268256817\n",
      "3       0.1411200080598672\n",
      "4       -0.7568024953079282\n",
      "5       -0.9589242746631385\n"
     ]
    }
   ],
   "source": [
    "import math\n",
    "print('x_i,             y_i')\n",
    "for i in range(1,6):\n",
    "    print(i, '     ', math.sin(i))"
   ]
  },
  {
   "cell_type": "markdown",
   "metadata": {},
   "source": [
    "Если просто соединить данные экспериментально полученные точки с помощью прямой, то такое приближение для всего процесса будет довольно неточным:"
   ]
  },
  {
   "cell_type": "code",
   "execution_count": 59,
   "metadata": {},
   "outputs": [
    {
     "data": {
      "image/png": "[encoded data removed]",
      "text/plain": [
       "<matplotlib.figure.Figure at 0x1ec8cf907f0>"
      ]
     },
     "metadata": {},
     "output_type": "display_data"
    }
   ],
   "source": [
    "#Импортируем один из пакетов Matplotlib\n",
    "import pylab\n",
    "#Импортируем пакет со вспомогательными функциями\n",
    "from matplotlib import mlab\n",
    "# Шаг между точками\n",
    "dx = 1\n",
    "\n",
    "#Создадим список координат по оси \n",
    "#X на отрезке [-xmin; xmax], включая концы\n",
    "xlist = mlab.frange (1, 5, dx)\n",
    "\n",
    "# Вычислим значение функции в заданных точках\n",
    "ylist = [math.sin(x) for x in xlist]\n",
    "\n",
    "#Нарисуем одномерный график\n",
    "pylab.plot(xlist, ylist)\n",
    "pylab.xlabel('x')\n",
    "pylab.ylabel('y(x)')\n",
    "\n",
    "#Покажем окно с нарисованным графиком\n",
    "pylab.show()"
   ]
  },
  {
   "cell_type": "markdown",
   "metadata": {},
   "source": [
    "Положим, что полученная таблица является реализацией эмпирической гладкой зависимости\n",
    "\n",
    "$\\widetilde{f}_m(x, \\overline{a})$ с неизвестным параметром $\\overline{a}$, который в общем случае является вектором размерности $m+1$:"
   ]
  },
  {
   "cell_type": "code",
   "execution_count": 61,
   "metadata": {},
   "outputs": [
    {
     "data": {
      "image/png": "[encoded data removed]",
      "text/plain": [
       "<matplotlib.figure.Figure at 0x1ec8d001a90>"
      ]
     },
     "metadata": {},
     "output_type": "display_data"
    }
   ],
   "source": [
    "import numpy as np\n",
    "import matplotlib.pyplot as plt\n",
    "\n",
    "t1 = np.arange(1., 5., 0.1)\n",
    "t2 = np.array([1, 2, 3, 4, 5])\n",
    "t2_2 = np.array([0.65, 1, 0.25, -0.65, -0.8])\n",
    "\n",
    "plt.plot(t1, np.sin(t1), 'r--', t2, t2_2, 'g^')\n",
    "plt.ylabel('y')\n",
    "plt.xlabel('x_0                                         x_i                                      x_n')\n",
    "plt.show()"
   ]
  },
  {
   "cell_type": "markdown",
   "metadata": {},
   "source": [
    "где красный график отражает сглаженную зависимость $\\widetilde{f}_m(x, \\overline{a})$, а зелёный - некоторые табличные данные.\n",
    "\n",
    "Для определения данной сглаженной зависимости можно использовать разные формы её записи и использовать разные условия согласования $\\widetilde{f}_m(x, \\overline{a})$ с исходной функцией $y_i=f(x_i) \\pm \\varepsilon_i$.\n",
    "\n",
    "Удобно представить зависимость в виде обобщенного многочлена:\n",
    "\n",
    "$$\\widetilde{f}_m(x, \\overline{a}) = \\sum\\limits_{j=0}^{m}a_j\\phi_j(x)=a_0\\phi_0(x)+a_1\\phi_1(x)+...+a_m\\phi_m(x) \\tag{4.43}         $$\n",
    "где $\\overline{a}$ - вектор неизвестных коэффициентов, $\\{\\phi_j\\}$ - система базисных функций. \n",
    "\n",
    "Базисными функциями могут выступать:\n",
    "* Степенные $\\{\\phi_j\\} = \\{x^j\\}$\n",
    "* Многочлены Чебышева\n",
    "* Тригонометрические $\\{\\phi_j\\} = \\{\\cos jx\\}$\n",
    "\n",
    "Методами сглаживания могут выступать (более подробно о них поговорим далее):\n",
    "* Метод наименьших квадратов\n",
    "* Метод интегрального приближения (также известный как \"Метод наилучшего интегрального приближения\")"
   ]
  },
  {
   "cell_type": "markdown",
   "metadata": {},
   "source": [
    "#### Постановка задачи о нахождении сглаживающих многочленов методом наименьших квадратов"
   ]
  },
  {
   "cell_type": "markdown",
   "metadata": {},
   "source": [
    "Пусть на множестве $\\Omega = [a,b]$ задана сетка $$\\Omega_n = \\{x_i, i=\\overline{0,n}\\},$$ определяемая $n+1$ точкой, т.е. $x_0, x_1, x_2,...,x_n$, а на сетке задана сеточная функция $$y_i=f(x_i),$$\n",
    "где $i=\\overline{0,n}$.\n",
    "\n",
    "Предполагается, что функция получена в ходе некоторого эксперимента с погрешностью $\\varepsilon_i$.\n",
    "В качестве сглаживающей функции будет использоваться многочлен 4.43 со степенью, удовлетворяющей условию $0 \\leq m \\leq n$.\n",
    "\n",
    "Требуется найти такие коэффициенты $a_0, a_1, a_2,...,a_m$, при которых выполняется интегральное условие согласования:\n",
    "\n",
    "$$ \\delta_m(\\overline{a}) = \\sqrt{\\frac{1}{1+n}\\sum\\limits_{i=0}^{n} [\\widetilde{f}_m(x, \\overline{a}) - f_i]^2} \\rightarrow \\min\\limits_{\\overline{a}},$$\n",
    "т.е. такой вектор $\\overline{a}$, который обеспечивает минимум среднеквадратичной погрешности $ \\delta_m(\\overline{a})$.\n",
    "\n",
    "\n",
    "Ключевые особенности сглаживания данного типа в отличие от решения задачи интерполяции:\n",
    "* Интерполяция - точечный метод. Как известно, Задача интерполяции – найти функцию $F(x)$, принимающую в точках $x_i$ те же значения $y_i$. Т.е. условие интерполяции имеет вид $F(x_i) = y_i$. Рассматриваемые же здесь методы не требуют точного удовлетворения функциональных условий, а требуют выполнения соответствия $\\widetilde{f}_m(x, \\overline{a})$ и $y_i=y(x_i)$ в среднем.\n",
    "* Подразумевается, что исходная функция получена в ходе некоторого эксперимента с ненулевой погрешностью.\n",
    "* Количество точек $n$, в которых задана исходная функция, значительно выше степени многочлена $m$. Таким образом, между ними нет строгого сооветствия, как в интерполяции."
   ]
  },
  {
   "cell_type": "markdown",
   "metadata": {},
   "source": [
    "#### Постановка задачи о нахождении сглаживающих многочленов методом интегрального приближения"
   ]
  },
  {
   "cell_type": "markdown",
   "metadata": {},
   "source": [
    "Пусть на множестве $\\Omega = [a,b]$ задана сетка $$\\Omega_{m+1} = \\{x_i, i=\\overline{0,m+1}\\},$$\n",
    "причём $x_0=a<x_1<x_2<...<x_{m+1} = b.$ \n",
    "\n",
    "Данная сетка, определяемая $m+2$ несовпадающими узлами, порождает систему из $m+1$ частичных отрезков $[x_i, x_{i+1}], i = i=\\overline{0,m}$\n",
    "\n",
    "Способы задания сеточной функции на данной сетке:\n",
    "1. На каждом частичном отрезке сетки задаётся величина интеграла $I_i^{i+1}$\n",
    "2. На частичных отрезках с фиксированным левым узлом $[x_0, x_{1}], [x_0, x_{2}], ..., [x_0, x_{m+1}]$ задаются интегралы $I_0^{i+1}$\n",
    "3. Задание сеточной функции её значениями $y_i=f(x_i), i=\\overline{0,m+1}$, которые известны с погрешностями $\\varepsilon_i$. В данном случае вычисляются интегралы $I_i^{i+1},i=\\overline{0,m} $ и $ I_0^i, i = \\overline{1,m+1}$.\n",
    "\n",
    "В качестве сглаживающей функции, как и в методе наименьших квадратов, используется многочлен 4.43 степени $m$ со степенными базисными функциями. Требуется найти такие коэффициенты $a_0, a_1, a_2,...,a_m$, при которых выполняется интегральное условие согласования:\n",
    "* Для первого способа задания оно имеет вид: $\\int\\limits_{x_i}^{x_{i+1}} \\widetilde{f}_m(x, \\overline{a}) dx = I_i^{i+1},$ где  $ i=\\overline{0,m} $\n",
    "* Для второго способа задания оно имеет вид: $\\int\\limits_{x_0}^{x_{i}} \\widetilde{f}_m(x, \\overline{a}) dx = I_0^{i},$ где  $ i=\\overline{1,m+1} $"
   ]
  },
  {
   "cell_type": "markdown",
   "metadata": {},
   "source": [
    "### 4.4.2 Метод наименьших квадратов"
   ]
  },
  {
   "cell_type": "code",
   "execution_count": null,
   "metadata": {
    "collapsed": true
   },
   "outputs": [],
   "source": []
  }
 ],
 "metadata": {
  "kernelspec": {
   "display_name": "Python 3",
   "language": "python",
   "name": "python3"
  },
  "language_info": {
   "codemirror_mode": {
    "name": "ipython",
    "version": 3
   },
   "file_extension": ".py",
   "mimetype": "text/x-python",
   "name": "python",
   "nbconvert_exporter": "python",
   "pygments_lexer": "ipython3",
   "version": "3.6.3"
  }
 },
 "nbformat": 4,
 "nbformat_minor": 2
}
